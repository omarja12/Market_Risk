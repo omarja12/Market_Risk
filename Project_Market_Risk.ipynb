{
  "cells": [
    {
      "cell_type": "markdown",
      "metadata": {
        "id": "view-in-github",
        "colab_type": "text"
      },
      "source": [
        "<a href=\"https://colab.research.google.com/github/omarja12/Market_Risk/blob/main/Project_Market_Risk.ipynb\" target=\"_parent\"><img src=\"https://colab.research.google.com/assets/colab-badge.svg\" alt=\"Open In Colab\"/></a>"
      ]
    },
    {
      "cell_type": "markdown",
      "source": [
        "# <center> __Practical Assignment: Estimating VAR of a Portfolio.__"
      ],
      "metadata": {
        "id": "4Pc0F-En8OJ6"
      },
      "id": "4Pc0F-En8OJ6"
    },
    {
      "cell_type": "code",
      "execution_count": null,
      "id": "8a69bae0",
      "metadata": {
        "id": "8a69bae0"
      },
      "outputs": [],
      "source": [
        "import pandas as pd\n",
        "import numpy as np\n",
        "import matplotlib.pyplot as plt\n",
        "import seaborn as sns"
      ]
    },
    {
      "cell_type": "code",
      "execution_count": null,
      "id": "b652dc5f",
      "metadata": {
        "id": "b652dc5f"
      },
      "outputs": [],
      "source": [
        "import warnings\n",
        "warnings.filterwarnings(\"ignore\")"
      ]
    },
    {
      "cell_type": "code",
      "execution_count": null,
      "id": "d2b00c89",
      "metadata": {
        "id": "d2b00c89"
      },
      "outputs": [],
      "source": [
        "ds = pd.read_excel('2122_RM_Data.xlsx')"
      ]
    },
    {
      "cell_type": "code",
      "execution_count": null,
      "id": "12ff0e1e",
      "metadata": {
        "id": "12ff0e1e"
      },
      "outputs": [],
      "source": [
        "omega1 = 0.4 \n",
        "omega2 = 0.6\n",
        "beta1 = 1.3\n",
        "beta2 = 1.6"
      ]
    },
    {
      "cell_type": "code",
      "execution_count": null,
      "id": "30a265ed",
      "metadata": {
        "id": "30a265ed"
      },
      "outputs": [],
      "source": [
        "ds['Date'] = pd.to_datetime(ds['Date'])"
      ]
    },
    {
      "cell_type": "code",
      "execution_count": null,
      "id": "2487973f",
      "metadata": {
        "id": "2487973f"
      },
      "outputs": [],
      "source": [
        "for c in ['DAX', 'NASDAQ100']:\n",
        "    ds[c] = ds[c].apply(lambda x: x.replace(',', '')) "
      ]
    },
    {
      "cell_type": "code",
      "execution_count": null,
      "id": "e78e39c3",
      "metadata": {
        "id": "e78e39c3"
      },
      "outputs": [],
      "source": [
        "for c in ['DAX', 'NASDAQ100']:\n",
        "    ds[c] = pd.to_numeric(ds[c])"
      ]
    },
    {
      "cell_type": "code",
      "execution_count": null,
      "id": "14c94149",
      "metadata": {
        "id": "14c94149",
        "outputId": "90269ff4-5155-452e-e1fa-ee891c1c07a9"
      },
      "outputs": [
        {
          "data": {
            "text/html": [
              "<div>\n",
              "<style scoped>\n",
              "    .dataframe tbody tr th:only-of-type {\n",
              "        vertical-align: middle;\n",
              "    }\n",
              "\n",
              "    .dataframe tbody tr th {\n",
              "        vertical-align: top;\n",
              "    }\n",
              "\n",
              "    .dataframe thead th {\n",
              "        text-align: right;\n",
              "    }\n",
              "</style>\n",
              "<table border=\"1\" class=\"dataframe\">\n",
              "  <thead>\n",
              "    <tr style=\"text-align: right;\">\n",
              "      <th></th>\n",
              "      <th>Date</th>\n",
              "      <th>DAX</th>\n",
              "      <th>NASDAQ100</th>\n",
              "      <th>EUR/RUB</th>\n",
              "      <th>USD/RUB</th>\n",
              "    </tr>\n",
              "  </thead>\n",
              "  <tbody>\n",
              "    <tr>\n",
              "      <th>0</th>\n",
              "      <td>2022-03-09</td>\n",
              "      <td>13847.93</td>\n",
              "      <td>13742.20</td>\n",
              "      <td>127.0000</td>\n",
              "      <td>120.0000</td>\n",
              "    </tr>\n",
              "    <tr>\n",
              "      <th>1</th>\n",
              "      <td>2022-03-08</td>\n",
              "      <td>12831.51</td>\n",
              "      <td>13267.61</td>\n",
              "      <td>118.9925</td>\n",
              "      <td>127.5000</td>\n",
              "    </tr>\n",
              "    <tr>\n",
              "      <th>2</th>\n",
              "      <td>2022-03-07</td>\n",
              "      <td>12834.65</td>\n",
              "      <td>13319.38</td>\n",
              "      <td>118.9925</td>\n",
              "      <td>143.0000</td>\n",
              "    </tr>\n",
              "    <tr>\n",
              "      <th>3</th>\n",
              "      <td>2022-03-04</td>\n",
              "      <td>13094.54</td>\n",
              "      <td>13837.83</td>\n",
              "      <td>118.9925</td>\n",
              "      <td>122.5375</td>\n",
              "    </tr>\n",
              "    <tr>\n",
              "      <th>4</th>\n",
              "      <td>2022-03-03</td>\n",
              "      <td>13698.40</td>\n",
              "      <td>14035.21</td>\n",
              "      <td>117.6000</td>\n",
              "      <td>109.8960</td>\n",
              "    </tr>\n",
              "  </tbody>\n",
              "</table>\n",
              "</div>"
            ],
            "text/plain": [
              "        Date       DAX  NASDAQ100   EUR/RUB   USD/RUB\n",
              "0 2022-03-09  13847.93   13742.20  127.0000  120.0000\n",
              "1 2022-03-08  12831.51   13267.61  118.9925  127.5000\n",
              "2 2022-03-07  12834.65   13319.38  118.9925  143.0000\n",
              "3 2022-03-04  13094.54   13837.83  118.9925  122.5375\n",
              "4 2022-03-03  13698.40   14035.21  117.6000  109.8960"
            ]
          },
          "execution_count": 8,
          "metadata": {},
          "output_type": "execute_result"
        }
      ],
      "source": [
        "ds.head()"
      ]
    },
    {
      "cell_type": "code",
      "execution_count": null,
      "id": "96d55578",
      "metadata": {
        "id": "96d55578",
        "outputId": "da2d4501-dca5-4516-959b-f2f09d700459"
      },
      "outputs": [
        {
          "data": {
            "text/plain": [
              "Date         datetime64[ns]\n",
              "DAX                 float64\n",
              "NASDAQ100           float64\n",
              "EUR/RUB             float64\n",
              "USD/RUB             float64\n",
              "dtype: object"
            ]
          },
          "execution_count": 9,
          "metadata": {},
          "output_type": "execute_result"
        }
      ],
      "source": [
        "ds.dtypes"
      ]
    },
    {
      "cell_type": "code",
      "execution_count": null,
      "id": "5ed81122",
      "metadata": {
        "id": "5ed81122"
      },
      "outputs": [],
      "source": [
        "# Sorting the dataframe by date.\n",
        "ds = ds.sort_values(by=\"Date\")"
      ]
    },
    {
      "cell_type": "code",
      "execution_count": null,
      "id": "8d412604",
      "metadata": {
        "id": "8d412604"
      },
      "outputs": [],
      "source": [
        "ds.reset_index(drop=True, inplace=True)"
      ]
    },
    {
      "cell_type": "code",
      "execution_count": null,
      "id": "cf4f956c",
      "metadata": {
        "id": "cf4f956c",
        "outputId": "1eda7dcb-0d33-4b9d-d38d-7ae2d8ebd526"
      },
      "outputs": [
        {
          "data": {
            "text/html": [
              "<div>\n",
              "<style scoped>\n",
              "    .dataframe tbody tr th:only-of-type {\n",
              "        vertical-align: middle;\n",
              "    }\n",
              "\n",
              "    .dataframe tbody tr th {\n",
              "        vertical-align: top;\n",
              "    }\n",
              "\n",
              "    .dataframe thead th {\n",
              "        text-align: right;\n",
              "    }\n",
              "</style>\n",
              "<table border=\"1\" class=\"dataframe\">\n",
              "  <thead>\n",
              "    <tr style=\"text-align: right;\">\n",
              "      <th></th>\n",
              "      <th>Date</th>\n",
              "      <th>DAX</th>\n",
              "      <th>NASDAQ100</th>\n",
              "      <th>EUR/RUB</th>\n",
              "      <th>USD/RUB</th>\n",
              "    </tr>\n",
              "  </thead>\n",
              "  <tbody>\n",
              "    <tr>\n",
              "      <th>0</th>\n",
              "      <td>2017-02-09</td>\n",
              "      <td>11642.86</td>\n",
              "      <td>5212.16</td>\n",
              "      <td>61.9424</td>\n",
              "      <td>58.9600</td>\n",
              "    </tr>\n",
              "    <tr>\n",
              "      <th>1</th>\n",
              "      <td>2017-02-10</td>\n",
              "      <td>11666.97</td>\n",
              "      <td>5226.69</td>\n",
              "      <td>61.4520</td>\n",
              "      <td>58.2219</td>\n",
              "    </tr>\n",
              "    <tr>\n",
              "      <th>2</th>\n",
              "      <td>2017-02-13</td>\n",
              "      <td>11774.43</td>\n",
              "      <td>5256.82</td>\n",
              "      <td>60.4012</td>\n",
              "      <td>57.9851</td>\n",
              "    </tr>\n",
              "    <tr>\n",
              "      <th>3</th>\n",
              "      <td>2017-02-14</td>\n",
              "      <td>11771.81</td>\n",
              "      <td>5271.07</td>\n",
              "      <td>60.7171</td>\n",
              "      <td>57.1288</td>\n",
              "    </tr>\n",
              "    <tr>\n",
              "      <th>4</th>\n",
              "      <td>2017-02-15</td>\n",
              "      <td>11793.93</td>\n",
              "      <td>5302.39</td>\n",
              "      <td>61.4459</td>\n",
              "      <td>57.2565</td>\n",
              "    </tr>\n",
              "  </tbody>\n",
              "</table>\n",
              "</div>"
            ],
            "text/plain": [
              "        Date       DAX  NASDAQ100  EUR/RUB  USD/RUB\n",
              "0 2017-02-09  11642.86    5212.16  61.9424  58.9600\n",
              "1 2017-02-10  11666.97    5226.69  61.4520  58.2219\n",
              "2 2017-02-13  11774.43    5256.82  60.4012  57.9851\n",
              "3 2017-02-14  11771.81    5271.07  60.7171  57.1288\n",
              "4 2017-02-15  11793.93    5302.39  61.4459  57.2565"
            ]
          },
          "execution_count": 12,
          "metadata": {},
          "output_type": "execute_result"
        }
      ],
      "source": [
        "ds.head()"
      ]
    },
    {
      "cell_type": "markdown",
      "id": "12185366",
      "metadata": {
        "id": "12185366"
      },
      "source": [
        "# Part 1:"
      ]
    },
    {
      "cell_type": "markdown",
      "id": "3d1ca6de",
      "metadata": {
        "id": "3d1ca6de"
      },
      "source": [
        "## Question 1"
      ]
    },
    {
      "cell_type": "code",
      "execution_count": null,
      "id": "95d6ec21",
      "metadata": {
        "id": "95d6ec21",
        "outputId": "3e10f292-5bab-458e-c7db-b914a7ee5ca8"
      },
      "outputs": [
        {
          "data": {
            "image/png": "[encoded data removed]",
            "text/plain": [
              "<Figure size 720x720 with 1 Axes>"
            ]
          },
          "metadata": {
            "needs_background": "light"
          },
          "output_type": "display_data"
        }
      ],
      "source": [
        "# Ploting the indexes\n",
        "\n",
        "ds.plot(x='Date', y=[\"DAX\", \"NASDAQ100\"], kind=\"line\", figsize=(10, 10))\n",
        "plt.show()"
      ]
    },
    {
      "cell_type": "code",
      "execution_count": null,
      "id": "fc46dfe1",
      "metadata": {
        "id": "fc46dfe1",
        "outputId": "5522d04d-8fc5-4ea1-f690-ebe247a244b4"
      },
      "outputs": [
        {
          "data": {
            "image/png": "[encoded data removed]",
            "text/plain": [
              "<Figure size 720x720 with 1 Axes>"
            ]
          },
          "metadata": {
            "needs_background": "light"
          },
          "output_type": "display_data"
        }
      ],
      "source": [
        "# Ploting the returns.\n",
        "\n",
        "ds.plot(x='Date', y=['EUR/RUB', 'USD/RUB'], kind=\"line\", figsize=(10, 10))\n",
        "plt.show()"
      ]
    },
    {
      "cell_type": "code",
      "execution_count": null,
      "id": "ec4008c7",
      "metadata": {
        "id": "ec4008c7",
        "outputId": "b97b4c8f-bbef-4d42-90d2-4699a6e1b8cf"
      },
      "outputs": [
        {
          "data": {
            "image/png": "[encoded data removed]",
            "text/plain": [
              "<Figure size 432x288 with 1 Axes>"
            ]
          },
          "metadata": {
            "needs_background": "light"
          },
          "output_type": "display_data"
        }
      ],
      "source": [
        "# See how to add a legend. and how to change the y axis.\n",
        "\n",
        "fig, ax = plt.subplots()\n",
        "sns.lineplot(x='Date', y='EUR/RUB', data=ds, ax=ax)\n",
        "#ax2 = ax.twinx()\n",
        "sns.lineplot(x='Date', y='USD/RUB', data=ds, ax=ax, color='r')\n",
        "plt.show()"
      ]
    },
    {
      "cell_type": "code",
      "execution_count": null,
      "id": "0659e3de",
      "metadata": {
        "id": "0659e3de"
      },
      "outputs": [],
      "source": [
        "# I should be commenting in here."
      ]
    },
    {
      "cell_type": "markdown",
      "id": "96f60899",
      "metadata": {
        "id": "96f60899"
      },
      "source": [
        "## Question 2:"
      ]
    },
    {
      "cell_type": "code",
      "execution_count": null,
      "id": "c1b1e4d6",
      "metadata": {
        "id": "c1b1e4d6"
      },
      "outputs": [],
      "source": [
        "ds['DAX_RUB'] = ds['DAX']*ds['EUR/RUB']\n",
        "ds['NASDAQ100_RUB'] = ds['NASDAQ100']*ds['USD/RUB']"
      ]
    },
    {
      "cell_type": "code",
      "execution_count": null,
      "id": "556d178c",
      "metadata": {
        "id": "556d178c",
        "outputId": "22ded52b-8738-4f43-f24f-40491991bcdd"
      },
      "outputs": [
        {
          "data": {
            "image/png": "[encoded data removed]",
            "text/plain": [
              "<Figure size 720x720 with 1 Axes>"
            ]
          },
          "metadata": {
            "needs_background": "light"
          },
          "output_type": "display_data"
        }
      ],
      "source": [
        "ds.plot(x='Date', y=[\"DAX_RUB\", \"NASDAQ100_RUB\"], kind=\"line\", figsize=(10, 10))\n",
        "plt.show()"
      ]
    },
    {
      "cell_type": "code",
      "execution_count": null,
      "id": "0aaf84cb",
      "metadata": {
        "id": "0aaf84cb",
        "outputId": "c9391ab0-89f3-40d9-b03e-0b469d1d23d1"
      },
      "outputs": [
        {
          "data": {
            "image/png": "[encoded data removed]",
            "text/plain": [
              "<Figure size 432x288 with 1 Axes>"
            ]
          },
          "metadata": {
            "needs_background": "light"
          },
          "output_type": "display_data"
        }
      ],
      "source": [
        "# See how to add a legend.\n",
        "\n",
        "fig, ax = plt.subplots()\n",
        "sns.lineplot(x='Date', y='DAX_RUB', data=ds, ax=ax)\n",
        "plt.show()"
      ]
    },
    {
      "cell_type": "code",
      "execution_count": null,
      "id": "1afbbe54",
      "metadata": {
        "id": "1afbbe54",
        "outputId": "52510bc9-adde-4023-f4da-4025ee89aa97"
      },
      "outputs": [
        {
          "data": {
            "image/png": "[encoded data removed]",
            "text/plain": [
              "<Figure size 432x288 with 1 Axes>"
            ]
          },
          "metadata": {
            "needs_background": "light"
          },
          "output_type": "display_data"
        }
      ],
      "source": [
        "# See how to add a legend.\n",
        "\n",
        "fig, ax = plt.subplots()\n",
        "sns.lineplot(x='Date', y='NASDAQ100_RUB', data=ds, ax=ax)\n",
        "plt.show()"
      ]
    },
    {
      "cell_type": "code",
      "execution_count": null,
      "id": "914b745a",
      "metadata": {
        "id": "914b745a"
      },
      "outputs": [],
      "source": [
        "## I should comment here again."
      ]
    },
    {
      "cell_type": "markdown",
      "id": "4b215e72",
      "metadata": {
        "id": "4b215e72"
      },
      "source": [
        "## Question 3:"
      ]
    },
    {
      "cell_type": "code",
      "execution_count": null,
      "id": "70dae2a3",
      "metadata": {
        "id": "70dae2a3"
      },
      "outputs": [],
      "source": [
        "ds['y_1t'] = np.log1p(ds['DAX'].pct_change())\n",
        "ds['y_2t'] = np.log1p(ds['NASDAQ100'].pct_change())"
      ]
    },
    {
      "cell_type": "code",
      "execution_count": null,
      "id": "3d398064",
      "metadata": {
        "id": "3d398064"
      },
      "outputs": [],
      "source": [
        "ds['rt_EUR/RUB'] = np.log1p(ds['EUR/RUB'].pct_change())\n",
        "ds['rt_USD/RUB'] = np.log1p(ds['USD/RUB'].pct_change())"
      ]
    },
    {
      "cell_type": "code",
      "execution_count": null,
      "id": "55280c38",
      "metadata": {
        "id": "55280c38",
        "outputId": "e5bb96c3-b843-4289-f13c-03efbd72ce9a"
      },
      "outputs": [
        {
          "data": {
            "text/html": [
              "<div>\n",
              "<style scoped>\n",
              "    .dataframe tbody tr th:only-of-type {\n",
              "        vertical-align: middle;\n",
              "    }\n",
              "\n",
              "    .dataframe tbody tr th {\n",
              "        vertical-align: top;\n",
              "    }\n",
              "\n",
              "    .dataframe thead th {\n",
              "        text-align: right;\n",
              "    }\n",
              "</style>\n",
              "<table border=\"1\" class=\"dataframe\">\n",
              "  <thead>\n",
              "    <tr style=\"text-align: right;\">\n",
              "      <th></th>\n",
              "      <th>Date</th>\n",
              "      <th>DAX</th>\n",
              "      <th>NASDAQ100</th>\n",
              "      <th>EUR/RUB</th>\n",
              "      <th>USD/RUB</th>\n",
              "      <th>DAX_RUB</th>\n",
              "      <th>NASDAQ100_RUB</th>\n",
              "      <th>y_1t</th>\n",
              "      <th>y_2t</th>\n",
              "      <th>rt_EUR/RUB</th>\n",
              "      <th>rt_USD/RUB</th>\n",
              "    </tr>\n",
              "  </thead>\n",
              "  <tbody>\n",
              "    <tr>\n",
              "      <th>0</th>\n",
              "      <td>2017-02-09</td>\n",
              "      <td>11642.86</td>\n",
              "      <td>5212.16</td>\n",
              "      <td>61.9424</td>\n",
              "      <td>58.9600</td>\n",
              "      <td>721186.691264</td>\n",
              "      <td>307308.953600</td>\n",
              "      <td>NaN</td>\n",
              "      <td>NaN</td>\n",
              "      <td>NaN</td>\n",
              "      <td>NaN</td>\n",
              "    </tr>\n",
              "    <tr>\n",
              "      <th>1</th>\n",
              "      <td>2017-02-10</td>\n",
              "      <td>11666.97</td>\n",
              "      <td>5226.69</td>\n",
              "      <td>61.4520</td>\n",
              "      <td>58.2219</td>\n",
              "      <td>716958.640440</td>\n",
              "      <td>304307.822511</td>\n",
              "      <td>0.002069</td>\n",
              "      <td>0.002784</td>\n",
              "      <td>-0.007949</td>\n",
              "      <td>-0.012598</td>\n",
              "    </tr>\n",
              "    <tr>\n",
              "      <th>2</th>\n",
              "      <td>2017-02-13</td>\n",
              "      <td>11774.43</td>\n",
              "      <td>5256.82</td>\n",
              "      <td>60.4012</td>\n",
              "      <td>57.9851</td>\n",
              "      <td>711189.701316</td>\n",
              "      <td>304817.233382</td>\n",
              "      <td>0.009168</td>\n",
              "      <td>0.005748</td>\n",
              "      <td>-0.017247</td>\n",
              "      <td>-0.004075</td>\n",
              "    </tr>\n",
              "    <tr>\n",
              "      <th>3</th>\n",
              "      <td>2017-02-14</td>\n",
              "      <td>11771.81</td>\n",
              "      <td>5271.07</td>\n",
              "      <td>60.7171</td>\n",
              "      <td>57.1288</td>\n",
              "      <td>714750.164951</td>\n",
              "      <td>301129.903816</td>\n",
              "      <td>-0.000223</td>\n",
              "      <td>0.002707</td>\n",
              "      <td>0.005216</td>\n",
              "      <td>-0.014878</td>\n",
              "    </tr>\n",
              "    <tr>\n",
              "      <th>4</th>\n",
              "      <td>2017-02-15</td>\n",
              "      <td>11793.93</td>\n",
              "      <td>5302.39</td>\n",
              "      <td>61.4459</td>\n",
              "      <td>57.2565</td>\n",
              "      <td>724688.643387</td>\n",
              "      <td>303596.293035</td>\n",
              "      <td>0.001877</td>\n",
              "      <td>0.005924</td>\n",
              "      <td>0.011932</td>\n",
              "      <td>0.002233</td>\n",
              "    </tr>\n",
              "  </tbody>\n",
              "</table>\n",
              "</div>"
            ],
            "text/plain": [
              "        Date       DAX  NASDAQ100  EUR/RUB  USD/RUB        DAX_RUB  \\\n",
              "0 2017-02-09  11642.86    5212.16  61.9424  58.9600  721186.691264   \n",
              "1 2017-02-10  11666.97    5226.69  61.4520  58.2219  716958.640440   \n",
              "2 2017-02-13  11774.43    5256.82  60.4012  57.9851  711189.701316   \n",
              "3 2017-02-14  11771.81    5271.07  60.7171  57.1288  714750.164951   \n",
              "4 2017-02-15  11793.93    5302.39  61.4459  57.2565  724688.643387   \n",
              "\n",
              "   NASDAQ100_RUB      y_1t      y_2t  rt_EUR/RUB  rt_USD/RUB  \n",
              "0  307308.953600       NaN       NaN         NaN         NaN  \n",
              "1  304307.822511  0.002069  0.002784   -0.007949   -0.012598  \n",
              "2  304817.233382  0.009168  0.005748   -0.017247   -0.004075  \n",
              "3  301129.903816 -0.000223  0.002707    0.005216   -0.014878  \n",
              "4  303596.293035  0.001877  0.005924    0.011932    0.002233  "
            ]
          },
          "execution_count": 24,
          "metadata": {},
          "output_type": "execute_result"
        }
      ],
      "source": [
        "ds.head()"
      ]
    },
    {
      "cell_type": "code",
      "execution_count": null,
      "id": "8b3adcf6",
      "metadata": {
        "id": "8b3adcf6"
      },
      "outputs": [],
      "source": [
        "ds['Forex_return'] = omega1*ds['rt_EUR/RUB'] + omega2*ds['rt_USD/RUB']"
      ]
    },
    {
      "cell_type": "code",
      "execution_count": null,
      "id": "5c79c426",
      "metadata": {
        "id": "5c79c426"
      },
      "outputs": [],
      "source": [
        "ds['Equity_return'] = omega1*beta1*ds['y_1t'] + omega2*beta2*ds['y_2t']"
      ]
    },
    {
      "cell_type": "code",
      "execution_count": null,
      "id": "75cf7f3c",
      "metadata": {
        "id": "75cf7f3c",
        "outputId": "207c4956-4244-4988-f256-e0df6521b0a2"
      },
      "outputs": [
        {
          "data": {
            "text/html": [
              "<div>\n",
              "<style scoped>\n",
              "    .dataframe tbody tr th:only-of-type {\n",
              "        vertical-align: middle;\n",
              "    }\n",
              "\n",
              "    .dataframe tbody tr th {\n",
              "        vertical-align: top;\n",
              "    }\n",
              "\n",
              "    .dataframe thead th {\n",
              "        text-align: right;\n",
              "    }\n",
              "</style>\n",
              "<table border=\"1\" class=\"dataframe\">\n",
              "  <thead>\n",
              "    <tr style=\"text-align: right;\">\n",
              "      <th></th>\n",
              "      <th>Date</th>\n",
              "      <th>DAX</th>\n",
              "      <th>NASDAQ100</th>\n",
              "      <th>EUR/RUB</th>\n",
              "      <th>USD/RUB</th>\n",
              "      <th>DAX_RUB</th>\n",
              "      <th>NASDAQ100_RUB</th>\n",
              "      <th>y_1t</th>\n",
              "      <th>y_2t</th>\n",
              "      <th>rt_EUR/RUB</th>\n",
              "      <th>rt_USD/RUB</th>\n",
              "      <th>Forex_return</th>\n",
              "      <th>Equity_return</th>\n",
              "    </tr>\n",
              "  </thead>\n",
              "  <tbody>\n",
              "    <tr>\n",
              "      <th>0</th>\n",
              "      <td>2017-02-09</td>\n",
              "      <td>11642.86</td>\n",
              "      <td>5212.16</td>\n",
              "      <td>61.9424</td>\n",
              "      <td>58.9600</td>\n",
              "      <td>721186.691264</td>\n",
              "      <td>307308.953600</td>\n",
              "      <td>NaN</td>\n",
              "      <td>NaN</td>\n",
              "      <td>NaN</td>\n",
              "      <td>NaN</td>\n",
              "      <td>NaN</td>\n",
              "      <td>NaN</td>\n",
              "    </tr>\n",
              "    <tr>\n",
              "      <th>1</th>\n",
              "      <td>2017-02-10</td>\n",
              "      <td>11666.97</td>\n",
              "      <td>5226.69</td>\n",
              "      <td>61.4520</td>\n",
              "      <td>58.2219</td>\n",
              "      <td>716958.640440</td>\n",
              "      <td>304307.822511</td>\n",
              "      <td>0.002069</td>\n",
              "      <td>0.002784</td>\n",
              "      <td>-0.007949</td>\n",
              "      <td>-0.012598</td>\n",
              "      <td>-0.010738</td>\n",
              "      <td>0.003748</td>\n",
              "    </tr>\n",
              "    <tr>\n",
              "      <th>2</th>\n",
              "      <td>2017-02-13</td>\n",
              "      <td>11774.43</td>\n",
              "      <td>5256.82</td>\n",
              "      <td>60.4012</td>\n",
              "      <td>57.9851</td>\n",
              "      <td>711189.701316</td>\n",
              "      <td>304817.233382</td>\n",
              "      <td>0.009168</td>\n",
              "      <td>0.005748</td>\n",
              "      <td>-0.017247</td>\n",
              "      <td>-0.004075</td>\n",
              "      <td>-0.009344</td>\n",
              "      <td>0.010286</td>\n",
              "    </tr>\n",
              "    <tr>\n",
              "      <th>3</th>\n",
              "      <td>2017-02-14</td>\n",
              "      <td>11771.81</td>\n",
              "      <td>5271.07</td>\n",
              "      <td>60.7171</td>\n",
              "      <td>57.1288</td>\n",
              "      <td>714750.164951</td>\n",
              "      <td>301129.903816</td>\n",
              "      <td>-0.000223</td>\n",
              "      <td>0.002707</td>\n",
              "      <td>0.005216</td>\n",
              "      <td>-0.014878</td>\n",
              "      <td>-0.006840</td>\n",
              "      <td>0.002483</td>\n",
              "    </tr>\n",
              "    <tr>\n",
              "      <th>4</th>\n",
              "      <td>2017-02-15</td>\n",
              "      <td>11793.93</td>\n",
              "      <td>5302.39</td>\n",
              "      <td>61.4459</td>\n",
              "      <td>57.2565</td>\n",
              "      <td>724688.643387</td>\n",
              "      <td>303596.293035</td>\n",
              "      <td>0.001877</td>\n",
              "      <td>0.005924</td>\n",
              "      <td>0.011932</td>\n",
              "      <td>0.002233</td>\n",
              "      <td>0.006112</td>\n",
              "      <td>0.006664</td>\n",
              "    </tr>\n",
              "  </tbody>\n",
              "</table>\n",
              "</div>"
            ],
            "text/plain": [
              "        Date       DAX  NASDAQ100  EUR/RUB  USD/RUB        DAX_RUB  \\\n",
              "0 2017-02-09  11642.86    5212.16  61.9424  58.9600  721186.691264   \n",
              "1 2017-02-10  11666.97    5226.69  61.4520  58.2219  716958.640440   \n",
              "2 2017-02-13  11774.43    5256.82  60.4012  57.9851  711189.701316   \n",
              "3 2017-02-14  11771.81    5271.07  60.7171  57.1288  714750.164951   \n",
              "4 2017-02-15  11793.93    5302.39  61.4459  57.2565  724688.643387   \n",
              "\n",
              "   NASDAQ100_RUB      y_1t      y_2t  rt_EUR/RUB  rt_USD/RUB  Forex_return  \\\n",
              "0  307308.953600       NaN       NaN         NaN         NaN           NaN   \n",
              "1  304307.822511  0.002069  0.002784   -0.007949   -0.012598     -0.010738   \n",
              "2  304817.233382  0.009168  0.005748   -0.017247   -0.004075     -0.009344   \n",
              "3  301129.903816 -0.000223  0.002707    0.005216   -0.014878     -0.006840   \n",
              "4  303596.293035  0.001877  0.005924    0.011932    0.002233      0.006112   \n",
              "\n",
              "   Equity_return  \n",
              "0            NaN  \n",
              "1       0.003748  \n",
              "2       0.010286  \n",
              "3       0.002483  \n",
              "4       0.006664  "
            ]
          },
          "execution_count": 27,
          "metadata": {},
          "output_type": "execute_result"
        }
      ],
      "source": [
        "ds.head()"
      ]
    },
    {
      "cell_type": "code",
      "execution_count": null,
      "id": "7a873a52",
      "metadata": {
        "id": "7a873a52",
        "outputId": "d64ac22f-5561-4b47-c21b-28dbb0ed3844"
      },
      "outputs": [
        {
          "data": {
            "image/png": "[encoded data removed]",
            "text/plain": [
              "<Figure size 432x288 with 1 Axes>"
            ]
          },
          "metadata": {
            "needs_background": "light"
          },
          "output_type": "display_data"
        }
      ],
      "source": [
        "# See how to add a legend.\n",
        "fig, ax = plt.subplots()\n",
        "sns.lineplot(x='Date', y='Equity_return', data=ds, ax=ax)\n",
        "#ax2 = ax.twinx()\n",
        "sns.lineplot(x='Date', y='Forex_return', data=ds, ax=ax, color='r')\n",
        "plt.show()"
      ]
    },
    {
      "cell_type": "code",
      "execution_count": null,
      "id": "271639b6",
      "metadata": {
        "id": "271639b6",
        "outputId": "861a4bea-83d5-4381-a730-b1d1144ee098"
      },
      "outputs": [
        {
          "data": {
            "image/png": "[encoded data removed]",
            "text/plain": [
              "<Figure size 720x720 with 1 Axes>"
            ]
          },
          "metadata": {
            "needs_background": "light"
          },
          "output_type": "display_data"
        }
      ],
      "source": [
        "ds.plot(x='Date', y=[\"Equity_return\", \"Forex_return\"], kind=\"line\", figsize=(10, 10))\n",
        "plt.show()"
      ]
    },
    {
      "cell_type": "markdown",
      "id": "f06fbe9b",
      "metadata": {
        "id": "f06fbe9b"
      },
      "source": [
        "## Question 4:"
      ]
    },
    {
      "cell_type": "code",
      "execution_count": null,
      "id": "f1e264a6",
      "metadata": {
        "id": "f1e264a6"
      },
      "outputs": [],
      "source": [
        "# The daily portfolio return is given by:\n",
        "ds['rt_RUB'] = ds['Equity_return'] + ds['Forex_return']"
      ]
    },
    {
      "cell_type": "code",
      "execution_count": null,
      "id": "d4490106",
      "metadata": {
        "id": "d4490106",
        "outputId": "3bb358ce-8d9b-4e84-e875-21d99e062eb9"
      },
      "outputs": [
        {
          "data": {
            "text/html": [
              "<div>\n",
              "<style scoped>\n",
              "    .dataframe tbody tr th:only-of-type {\n",
              "        vertical-align: middle;\n",
              "    }\n",
              "\n",
              "    .dataframe tbody tr th {\n",
              "        vertical-align: top;\n",
              "    }\n",
              "\n",
              "    .dataframe thead th {\n",
              "        text-align: right;\n",
              "    }\n",
              "</style>\n",
              "<table border=\"1\" class=\"dataframe\">\n",
              "  <thead>\n",
              "    <tr style=\"text-align: right;\">\n",
              "      <th></th>\n",
              "      <th>Date</th>\n",
              "      <th>DAX</th>\n",
              "      <th>NASDAQ100</th>\n",
              "      <th>EUR/RUB</th>\n",
              "      <th>USD/RUB</th>\n",
              "      <th>DAX_RUB</th>\n",
              "      <th>NASDAQ100_RUB</th>\n",
              "      <th>y_1t</th>\n",
              "      <th>y_2t</th>\n",
              "      <th>rt_EUR/RUB</th>\n",
              "      <th>rt_USD/RUB</th>\n",
              "      <th>Forex_return</th>\n",
              "      <th>Equity_return</th>\n",
              "      <th>rt_RUB</th>\n",
              "    </tr>\n",
              "  </thead>\n",
              "  <tbody>\n",
              "    <tr>\n",
              "      <th>0</th>\n",
              "      <td>2017-02-09</td>\n",
              "      <td>11642.86</td>\n",
              "      <td>5212.16</td>\n",
              "      <td>61.9424</td>\n",
              "      <td>58.9600</td>\n",
              "      <td>721186.691264</td>\n",
              "      <td>307308.953600</td>\n",
              "      <td>NaN</td>\n",
              "      <td>NaN</td>\n",
              "      <td>NaN</td>\n",
              "      <td>NaN</td>\n",
              "      <td>NaN</td>\n",
              "      <td>NaN</td>\n",
              "      <td>NaN</td>\n",
              "    </tr>\n",
              "    <tr>\n",
              "      <th>1</th>\n",
              "      <td>2017-02-10</td>\n",
              "      <td>11666.97</td>\n",
              "      <td>5226.69</td>\n",
              "      <td>61.4520</td>\n",
              "      <td>58.2219</td>\n",
              "      <td>716958.640440</td>\n",
              "      <td>304307.822511</td>\n",
              "      <td>0.002069</td>\n",
              "      <td>0.002784</td>\n",
              "      <td>-0.007949</td>\n",
              "      <td>-0.012598</td>\n",
              "      <td>-0.010738</td>\n",
              "      <td>0.003748</td>\n",
              "      <td>-0.006990</td>\n",
              "    </tr>\n",
              "    <tr>\n",
              "      <th>2</th>\n",
              "      <td>2017-02-13</td>\n",
              "      <td>11774.43</td>\n",
              "      <td>5256.82</td>\n",
              "      <td>60.4012</td>\n",
              "      <td>57.9851</td>\n",
              "      <td>711189.701316</td>\n",
              "      <td>304817.233382</td>\n",
              "      <td>0.009168</td>\n",
              "      <td>0.005748</td>\n",
              "      <td>-0.017247</td>\n",
              "      <td>-0.004075</td>\n",
              "      <td>-0.009344</td>\n",
              "      <td>0.010286</td>\n",
              "      <td>0.000942</td>\n",
              "    </tr>\n",
              "    <tr>\n",
              "      <th>3</th>\n",
              "      <td>2017-02-14</td>\n",
              "      <td>11771.81</td>\n",
              "      <td>5271.07</td>\n",
              "      <td>60.7171</td>\n",
              "      <td>57.1288</td>\n",
              "      <td>714750.164951</td>\n",
              "      <td>301129.903816</td>\n",
              "      <td>-0.000223</td>\n",
              "      <td>0.002707</td>\n",
              "      <td>0.005216</td>\n",
              "      <td>-0.014878</td>\n",
              "      <td>-0.006840</td>\n",
              "      <td>0.002483</td>\n",
              "      <td>-0.004357</td>\n",
              "    </tr>\n",
              "    <tr>\n",
              "      <th>4</th>\n",
              "      <td>2017-02-15</td>\n",
              "      <td>11793.93</td>\n",
              "      <td>5302.39</td>\n",
              "      <td>61.4459</td>\n",
              "      <td>57.2565</td>\n",
              "      <td>724688.643387</td>\n",
              "      <td>303596.293035</td>\n",
              "      <td>0.001877</td>\n",
              "      <td>0.005924</td>\n",
              "      <td>0.011932</td>\n",
              "      <td>0.002233</td>\n",
              "      <td>0.006112</td>\n",
              "      <td>0.006664</td>\n",
              "      <td>0.012776</td>\n",
              "    </tr>\n",
              "  </tbody>\n",
              "</table>\n",
              "</div>"
            ],
            "text/plain": [
              "        Date       DAX  NASDAQ100  EUR/RUB  USD/RUB        DAX_RUB  \\\n",
              "0 2017-02-09  11642.86    5212.16  61.9424  58.9600  721186.691264   \n",
              "1 2017-02-10  11666.97    5226.69  61.4520  58.2219  716958.640440   \n",
              "2 2017-02-13  11774.43    5256.82  60.4012  57.9851  711189.701316   \n",
              "3 2017-02-14  11771.81    5271.07  60.7171  57.1288  714750.164951   \n",
              "4 2017-02-15  11793.93    5302.39  61.4459  57.2565  724688.643387   \n",
              "\n",
              "   NASDAQ100_RUB      y_1t      y_2t  rt_EUR/RUB  rt_USD/RUB  Forex_return  \\\n",
              "0  307308.953600       NaN       NaN         NaN         NaN           NaN   \n",
              "1  304307.822511  0.002069  0.002784   -0.007949   -0.012598     -0.010738   \n",
              "2  304817.233382  0.009168  0.005748   -0.017247   -0.004075     -0.009344   \n",
              "3  301129.903816 -0.000223  0.002707    0.005216   -0.014878     -0.006840   \n",
              "4  303596.293035  0.001877  0.005924    0.011932    0.002233      0.006112   \n",
              "\n",
              "   Equity_return    rt_RUB  \n",
              "0            NaN       NaN  \n",
              "1       0.003748 -0.006990  \n",
              "2       0.010286  0.000942  \n",
              "3       0.002483 -0.004357  \n",
              "4       0.006664  0.012776  "
            ]
          },
          "execution_count": 31,
          "metadata": {},
          "output_type": "execute_result"
        }
      ],
      "source": [
        "ds.head()"
      ]
    },
    {
      "cell_type": "code",
      "execution_count": null,
      "id": "1d8d73ce",
      "metadata": {
        "id": "1d8d73ce"
      },
      "outputs": [],
      "source": [
        "#ds['rt_RUB'].hist()"
      ]
    },
    {
      "cell_type": "code",
      "execution_count": null,
      "id": "19641f3c",
      "metadata": {
        "id": "19641f3c",
        "outputId": "7d43e976-db22-4dab-a3dc-35acf87353e4"
      },
      "outputs": [
        {
          "data": {
            "text/plain": [
              "<AxesSubplot:xlabel='rt_RUB', ylabel='Count'>"
            ]
          },
          "execution_count": 33,
          "metadata": {},
          "output_type": "execute_result"
        },
        {
          "data": {
            "image/png": "[encoded data removed]",
            "text/plain": [
              "<Figure size 432x288 with 1 Axes>"
            ]
          },
          "metadata": {
            "needs_background": "light"
          },
          "output_type": "display_data"
        }
      ],
      "source": [
        "sns.histplot(data=ds, x='rt_RUB')"
      ]
    },
    {
      "cell_type": "code",
      "execution_count": null,
      "id": "6fb26c32",
      "metadata": {
        "id": "6fb26c32"
      },
      "outputs": [],
      "source": [
        "# Commenting the shape of the distribution, the distribution looks like normally distributed which is great."
      ]
    },
    {
      "cell_type": "markdown",
      "id": "1094d4b1",
      "metadata": {
        "id": "1094d4b1"
      },
      "source": [
        "# Part 2:"
      ]
    },
    {
      "cell_type": "code",
      "execution_count": null,
      "id": "a6122c38",
      "metadata": {
        "id": "a6122c38"
      },
      "outputs": [],
      "source": [
        "lbd=0.94  "
      ]
    },
    {
      "cell_type": "markdown",
      "id": "5939f268",
      "metadata": {
        "id": "5939f268"
      },
      "source": [
        "## Question 1:"
      ]
    },
    {
      "cell_type": "code",
      "execution_count": null,
      "id": "11ea3072",
      "metadata": {
        "id": "11ea3072",
        "outputId": "188394eb-76a4-4f4c-eb1d-3baba0bf116b"
      },
      "outputs": [
        {
          "data": {
            "text/html": [
              "<div>\n",
              "<style scoped>\n",
              "    .dataframe tbody tr th:only-of-type {\n",
              "        vertical-align: middle;\n",
              "    }\n",
              "\n",
              "    .dataframe tbody tr th {\n",
              "        vertical-align: top;\n",
              "    }\n",
              "\n",
              "    .dataframe thead th {\n",
              "        text-align: right;\n",
              "    }\n",
              "</style>\n",
              "<table border=\"1\" class=\"dataframe\">\n",
              "  <thead>\n",
              "    <tr style=\"text-align: right;\">\n",
              "      <th></th>\n",
              "      <th>Date</th>\n",
              "      <th>DAX</th>\n",
              "      <th>NASDAQ100</th>\n",
              "      <th>EUR/RUB</th>\n",
              "      <th>USD/RUB</th>\n",
              "      <th>DAX_RUB</th>\n",
              "      <th>NASDAQ100_RUB</th>\n",
              "      <th>y_1t</th>\n",
              "      <th>y_2t</th>\n",
              "      <th>rt_EUR/RUB</th>\n",
              "      <th>rt_USD/RUB</th>\n",
              "      <th>Forex_return</th>\n",
              "      <th>Equity_return</th>\n",
              "      <th>rt_RUB</th>\n",
              "    </tr>\n",
              "  </thead>\n",
              "  <tbody>\n",
              "    <tr>\n",
              "      <th>0</th>\n",
              "      <td>2017-02-09</td>\n",
              "      <td>11642.86</td>\n",
              "      <td>5212.16</td>\n",
              "      <td>61.9424</td>\n",
              "      <td>58.9600</td>\n",
              "      <td>721186.691264</td>\n",
              "      <td>307308.953600</td>\n",
              "      <td>NaN</td>\n",
              "      <td>NaN</td>\n",
              "      <td>NaN</td>\n",
              "      <td>NaN</td>\n",
              "      <td>NaN</td>\n",
              "      <td>NaN</td>\n",
              "      <td>NaN</td>\n",
              "    </tr>\n",
              "    <tr>\n",
              "      <th>1</th>\n",
              "      <td>2017-02-10</td>\n",
              "      <td>11666.97</td>\n",
              "      <td>5226.69</td>\n",
              "      <td>61.4520</td>\n",
              "      <td>58.2219</td>\n",
              "      <td>716958.640440</td>\n",
              "      <td>304307.822511</td>\n",
              "      <td>0.002069</td>\n",
              "      <td>0.002784</td>\n",
              "      <td>-0.007949</td>\n",
              "      <td>-0.012598</td>\n",
              "      <td>-0.010738</td>\n",
              "      <td>0.003748</td>\n",
              "      <td>-0.006990</td>\n",
              "    </tr>\n",
              "    <tr>\n",
              "      <th>2</th>\n",
              "      <td>2017-02-13</td>\n",
              "      <td>11774.43</td>\n",
              "      <td>5256.82</td>\n",
              "      <td>60.4012</td>\n",
              "      <td>57.9851</td>\n",
              "      <td>711189.701316</td>\n",
              "      <td>304817.233382</td>\n",
              "      <td>0.009168</td>\n",
              "      <td>0.005748</td>\n",
              "      <td>-0.017247</td>\n",
              "      <td>-0.004075</td>\n",
              "      <td>-0.009344</td>\n",
              "      <td>0.010286</td>\n",
              "      <td>0.000942</td>\n",
              "    </tr>\n",
              "    <tr>\n",
              "      <th>3</th>\n",
              "      <td>2017-02-14</td>\n",
              "      <td>11771.81</td>\n",
              "      <td>5271.07</td>\n",
              "      <td>60.7171</td>\n",
              "      <td>57.1288</td>\n",
              "      <td>714750.164951</td>\n",
              "      <td>301129.903816</td>\n",
              "      <td>-0.000223</td>\n",
              "      <td>0.002707</td>\n",
              "      <td>0.005216</td>\n",
              "      <td>-0.014878</td>\n",
              "      <td>-0.006840</td>\n",
              "      <td>0.002483</td>\n",
              "      <td>-0.004357</td>\n",
              "    </tr>\n",
              "    <tr>\n",
              "      <th>4</th>\n",
              "      <td>2017-02-15</td>\n",
              "      <td>11793.93</td>\n",
              "      <td>5302.39</td>\n",
              "      <td>61.4459</td>\n",
              "      <td>57.2565</td>\n",
              "      <td>724688.643387</td>\n",
              "      <td>303596.293035</td>\n",
              "      <td>0.001877</td>\n",
              "      <td>0.005924</td>\n",
              "      <td>0.011932</td>\n",
              "      <td>0.002233</td>\n",
              "      <td>0.006112</td>\n",
              "      <td>0.006664</td>\n",
              "      <td>0.012776</td>\n",
              "    </tr>\n",
              "  </tbody>\n",
              "</table>\n",
              "</div>"
            ],
            "text/plain": [
              "        Date       DAX  NASDAQ100  EUR/RUB  USD/RUB        DAX_RUB  \\\n",
              "0 2017-02-09  11642.86    5212.16  61.9424  58.9600  721186.691264   \n",
              "1 2017-02-10  11666.97    5226.69  61.4520  58.2219  716958.640440   \n",
              "2 2017-02-13  11774.43    5256.82  60.4012  57.9851  711189.701316   \n",
              "3 2017-02-14  11771.81    5271.07  60.7171  57.1288  714750.164951   \n",
              "4 2017-02-15  11793.93    5302.39  61.4459  57.2565  724688.643387   \n",
              "\n",
              "   NASDAQ100_RUB      y_1t      y_2t  rt_EUR/RUB  rt_USD/RUB  Forex_return  \\\n",
              "0  307308.953600       NaN       NaN         NaN         NaN           NaN   \n",
              "1  304307.822511  0.002069  0.002784   -0.007949   -0.012598     -0.010738   \n",
              "2  304817.233382  0.009168  0.005748   -0.017247   -0.004075     -0.009344   \n",
              "3  301129.903816 -0.000223  0.002707    0.005216   -0.014878     -0.006840   \n",
              "4  303596.293035  0.001877  0.005924    0.011932    0.002233      0.006112   \n",
              "\n",
              "   Equity_return    rt_RUB  \n",
              "0            NaN       NaN  \n",
              "1       0.003748 -0.006990  \n",
              "2       0.010286  0.000942  \n",
              "3       0.002483 -0.004357  \n",
              "4       0.006664  0.012776  "
            ]
          },
          "execution_count": 36,
          "metadata": {},
          "output_type": "execute_result"
        }
      ],
      "source": [
        "ds.head()"
      ]
    },
    {
      "cell_type": "code",
      "execution_count": null,
      "id": "3c46b0cb",
      "metadata": {
        "id": "3c46b0cb"
      },
      "outputs": [],
      "source": [
        "ds['Equity_return^2'] = ds['Equity_return']*ds['Equity_return']\n",
        "ds['Forex_return^2'] = ds['Forex_return']*ds['Forex_return']"
      ]
    },
    {
      "cell_type": "code",
      "execution_count": null,
      "id": "4601103f",
      "metadata": {
        "id": "4601103f"
      },
      "outputs": [],
      "source": [
        "ds['Equity_Adjusted_Variance'] = 0\n",
        "ds['Equity_Adjusted_Variance'].iloc[0] = ds['Equity_return^2'].mean()"
      ]
    },
    {
      "cell_type": "code",
      "execution_count": null,
      "id": "49ef24fe",
      "metadata": {
        "id": "49ef24fe"
      },
      "outputs": [],
      "source": [
        "ds['Forex_Adjusted_Variance'] = 0\n",
        "ds['Forex_Adjusted_Variance'].iloc[0] = ds['Forex_return^2'].mean()"
      ]
    },
    {
      "cell_type": "code",
      "execution_count": null,
      "id": "68f94269",
      "metadata": {
        "scrolled": true,
        "id": "68f94269",
        "outputId": "d5cbbd23-c6d2-4d36-c66e-58b752eb4aa7"
      },
      "outputs": [
        {
          "data": {
            "text/html": [
              "<div>\n",
              "<style scoped>\n",
              "    .dataframe tbody tr th:only-of-type {\n",
              "        vertical-align: middle;\n",
              "    }\n",
              "\n",
              "    .dataframe tbody tr th {\n",
              "        vertical-align: top;\n",
              "    }\n",
              "\n",
              "    .dataframe thead th {\n",
              "        text-align: right;\n",
              "    }\n",
              "</style>\n",
              "<table border=\"1\" class=\"dataframe\">\n",
              "  <thead>\n",
              "    <tr style=\"text-align: right;\">\n",
              "      <th></th>\n",
              "      <th>Date</th>\n",
              "      <th>DAX</th>\n",
              "      <th>NASDAQ100</th>\n",
              "      <th>EUR/RUB</th>\n",
              "      <th>USD/RUB</th>\n",
              "      <th>DAX_RUB</th>\n",
              "      <th>NASDAQ100_RUB</th>\n",
              "      <th>y_1t</th>\n",
              "      <th>y_2t</th>\n",
              "      <th>rt_EUR/RUB</th>\n",
              "      <th>rt_USD/RUB</th>\n",
              "      <th>Forex_return</th>\n",
              "      <th>Equity_return</th>\n",
              "      <th>rt_RUB</th>\n",
              "      <th>Equity_return^2</th>\n",
              "      <th>Forex_return^2</th>\n",
              "      <th>Equity_Adjusted_Variance</th>\n",
              "      <th>Forex_Adjusted_Variance</th>\n",
              "    </tr>\n",
              "  </thead>\n",
              "  <tbody>\n",
              "    <tr>\n",
              "      <th>0</th>\n",
              "      <td>2017-02-09</td>\n",
              "      <td>11642.86</td>\n",
              "      <td>5212.16</td>\n",
              "      <td>61.9424</td>\n",
              "      <td>58.9600</td>\n",
              "      <td>721186.691264</td>\n",
              "      <td>307308.953600</td>\n",
              "      <td>NaN</td>\n",
              "      <td>NaN</td>\n",
              "      <td>NaN</td>\n",
              "      <td>NaN</td>\n",
              "      <td>NaN</td>\n",
              "      <td>NaN</td>\n",
              "      <td>NaN</td>\n",
              "      <td>NaN</td>\n",
              "      <td>NaN</td>\n",
              "      <td>0.00034</td>\n",
              "      <td>0.000091</td>\n",
              "    </tr>\n",
              "    <tr>\n",
              "      <th>1</th>\n",
              "      <td>2017-02-10</td>\n",
              "      <td>11666.97</td>\n",
              "      <td>5226.69</td>\n",
              "      <td>61.4520</td>\n",
              "      <td>58.2219</td>\n",
              "      <td>716958.640440</td>\n",
              "      <td>304307.822511</td>\n",
              "      <td>0.002069</td>\n",
              "      <td>0.002784</td>\n",
              "      <td>-0.007949</td>\n",
              "      <td>-0.012598</td>\n",
              "      <td>-0.010738</td>\n",
              "      <td>0.003748</td>\n",
              "      <td>-0.006990</td>\n",
              "      <td>0.000014</td>\n",
              "      <td>0.000115</td>\n",
              "      <td>0.00000</td>\n",
              "      <td>0.000000</td>\n",
              "    </tr>\n",
              "    <tr>\n",
              "      <th>2</th>\n",
              "      <td>2017-02-13</td>\n",
              "      <td>11774.43</td>\n",
              "      <td>5256.82</td>\n",
              "      <td>60.4012</td>\n",
              "      <td>57.9851</td>\n",
              "      <td>711189.701316</td>\n",
              "      <td>304817.233382</td>\n",
              "      <td>0.009168</td>\n",
              "      <td>0.005748</td>\n",
              "      <td>-0.017247</td>\n",
              "      <td>-0.004075</td>\n",
              "      <td>-0.009344</td>\n",
              "      <td>0.010286</td>\n",
              "      <td>0.000942</td>\n",
              "      <td>0.000106</td>\n",
              "      <td>0.000087</td>\n",
              "      <td>0.00000</td>\n",
              "      <td>0.000000</td>\n",
              "    </tr>\n",
              "    <tr>\n",
              "      <th>3</th>\n",
              "      <td>2017-02-14</td>\n",
              "      <td>11771.81</td>\n",
              "      <td>5271.07</td>\n",
              "      <td>60.7171</td>\n",
              "      <td>57.1288</td>\n",
              "      <td>714750.164951</td>\n",
              "      <td>301129.903816</td>\n",
              "      <td>-0.000223</td>\n",
              "      <td>0.002707</td>\n",
              "      <td>0.005216</td>\n",
              "      <td>-0.014878</td>\n",
              "      <td>-0.006840</td>\n",
              "      <td>0.002483</td>\n",
              "      <td>-0.004357</td>\n",
              "      <td>0.000006</td>\n",
              "      <td>0.000047</td>\n",
              "      <td>0.00000</td>\n",
              "      <td>0.000000</td>\n",
              "    </tr>\n",
              "    <tr>\n",
              "      <th>4</th>\n",
              "      <td>2017-02-15</td>\n",
              "      <td>11793.93</td>\n",
              "      <td>5302.39</td>\n",
              "      <td>61.4459</td>\n",
              "      <td>57.2565</td>\n",
              "      <td>724688.643387</td>\n",
              "      <td>303596.293035</td>\n",
              "      <td>0.001877</td>\n",
              "      <td>0.005924</td>\n",
              "      <td>0.011932</td>\n",
              "      <td>0.002233</td>\n",
              "      <td>0.006112</td>\n",
              "      <td>0.006664</td>\n",
              "      <td>0.012776</td>\n",
              "      <td>0.000044</td>\n",
              "      <td>0.000037</td>\n",
              "      <td>0.00000</td>\n",
              "      <td>0.000000</td>\n",
              "    </tr>\n",
              "  </tbody>\n",
              "</table>\n",
              "</div>"
            ],
            "text/plain": [
              "        Date       DAX  NASDAQ100  EUR/RUB  USD/RUB        DAX_RUB  \\\n",
              "0 2017-02-09  11642.86    5212.16  61.9424  58.9600  721186.691264   \n",
              "1 2017-02-10  11666.97    5226.69  61.4520  58.2219  716958.640440   \n",
              "2 2017-02-13  11774.43    5256.82  60.4012  57.9851  711189.701316   \n",
              "3 2017-02-14  11771.81    5271.07  60.7171  57.1288  714750.164951   \n",
              "4 2017-02-15  11793.93    5302.39  61.4459  57.2565  724688.643387   \n",
              "\n",
              "   NASDAQ100_RUB      y_1t      y_2t  rt_EUR/RUB  rt_USD/RUB  Forex_return  \\\n",
              "0  307308.953600       NaN       NaN         NaN         NaN           NaN   \n",
              "1  304307.822511  0.002069  0.002784   -0.007949   -0.012598     -0.010738   \n",
              "2  304817.233382  0.009168  0.005748   -0.017247   -0.004075     -0.009344   \n",
              "3  301129.903816 -0.000223  0.002707    0.005216   -0.014878     -0.006840   \n",
              "4  303596.293035  0.001877  0.005924    0.011932    0.002233      0.006112   \n",
              "\n",
              "   Equity_return    rt_RUB  Equity_return^2  Forex_return^2  \\\n",
              "0            NaN       NaN              NaN             NaN   \n",
              "1       0.003748 -0.006990         0.000014        0.000115   \n",
              "2       0.010286  0.000942         0.000106        0.000087   \n",
              "3       0.002483 -0.004357         0.000006        0.000047   \n",
              "4       0.006664  0.012776         0.000044        0.000037   \n",
              "\n",
              "   Equity_Adjusted_Variance  Forex_Adjusted_Variance  \n",
              "0                   0.00034                 0.000091  \n",
              "1                   0.00000                 0.000000  \n",
              "2                   0.00000                 0.000000  \n",
              "3                   0.00000                 0.000000  \n",
              "4                   0.00000                 0.000000  "
            ]
          },
          "execution_count": 40,
          "metadata": {},
          "output_type": "execute_result"
        }
      ],
      "source": [
        "ds.head()"
      ]
    },
    {
      "cell_type": "code",
      "execution_count": null,
      "id": "30cf3580",
      "metadata": {
        "id": "30cf3580"
      },
      "outputs": [],
      "source": [
        "for i in range(1,ds.shape[0]):\n",
        "    ds.loc[i, 'Equity_Adjusted_Variance'] = (1-lbd)*ds.loc[i, 'Equity_return^2'] + lbd*ds.loc[i-1, 'Equity_Adjusted_Variance']\n",
        "    ds.loc[i, 'Forex_Adjusted_Variance'] = (1-lbd)*ds.loc[i, 'Forex_return^2'] + lbd*ds.loc[i-1, 'Forex_Adjusted_Variance']"
      ]
    },
    {
      "cell_type": "code",
      "execution_count": null,
      "id": "1b8254da",
      "metadata": {
        "id": "1b8254da",
        "outputId": "e350bbda-9100-444a-cc61-9f615cc384e7"
      },
      "outputs": [
        {
          "data": {
            "text/html": [
              "<div>\n",
              "<style scoped>\n",
              "    .dataframe tbody tr th:only-of-type {\n",
              "        vertical-align: middle;\n",
              "    }\n",
              "\n",
              "    .dataframe tbody tr th {\n",
              "        vertical-align: top;\n",
              "    }\n",
              "\n",
              "    .dataframe thead th {\n",
              "        text-align: right;\n",
              "    }\n",
              "</style>\n",
              "<table border=\"1\" class=\"dataframe\">\n",
              "  <thead>\n",
              "    <tr style=\"text-align: right;\">\n",
              "      <th></th>\n",
              "      <th>Date</th>\n",
              "      <th>DAX</th>\n",
              "      <th>NASDAQ100</th>\n",
              "      <th>EUR/RUB</th>\n",
              "      <th>USD/RUB</th>\n",
              "      <th>DAX_RUB</th>\n",
              "      <th>NASDAQ100_RUB</th>\n",
              "      <th>y_1t</th>\n",
              "      <th>y_2t</th>\n",
              "      <th>rt_EUR/RUB</th>\n",
              "      <th>rt_USD/RUB</th>\n",
              "      <th>Forex_return</th>\n",
              "      <th>Equity_return</th>\n",
              "      <th>rt_RUB</th>\n",
              "      <th>Equity_return^2</th>\n",
              "      <th>Forex_return^2</th>\n",
              "      <th>Equity_Adjusted_Variance</th>\n",
              "      <th>Forex_Adjusted_Variance</th>\n",
              "    </tr>\n",
              "  </thead>\n",
              "  <tbody>\n",
              "    <tr>\n",
              "      <th>0</th>\n",
              "      <td>2017-02-09</td>\n",
              "      <td>11642.86</td>\n",
              "      <td>5212.16</td>\n",
              "      <td>61.9424</td>\n",
              "      <td>58.9600</td>\n",
              "      <td>721186.691264</td>\n",
              "      <td>307308.953600</td>\n",
              "      <td>NaN</td>\n",
              "      <td>NaN</td>\n",
              "      <td>NaN</td>\n",
              "      <td>NaN</td>\n",
              "      <td>NaN</td>\n",
              "      <td>NaN</td>\n",
              "      <td>NaN</td>\n",
              "      <td>NaN</td>\n",
              "      <td>NaN</td>\n",
              "      <td>0.000340</td>\n",
              "      <td>0.000091</td>\n",
              "    </tr>\n",
              "    <tr>\n",
              "      <th>1</th>\n",
              "      <td>2017-02-10</td>\n",
              "      <td>11666.97</td>\n",
              "      <td>5226.69</td>\n",
              "      <td>61.4520</td>\n",
              "      <td>58.2219</td>\n",
              "      <td>716958.640440</td>\n",
              "      <td>304307.822511</td>\n",
              "      <td>0.002069</td>\n",
              "      <td>0.002784</td>\n",
              "      <td>-0.007949</td>\n",
              "      <td>-0.012598</td>\n",
              "      <td>-0.010738</td>\n",
              "      <td>0.003748</td>\n",
              "      <td>-0.006990</td>\n",
              "      <td>0.000014</td>\n",
              "      <td>0.000115</td>\n",
              "      <td>0.000321</td>\n",
              "      <td>0.000093</td>\n",
              "    </tr>\n",
              "    <tr>\n",
              "      <th>2</th>\n",
              "      <td>2017-02-13</td>\n",
              "      <td>11774.43</td>\n",
              "      <td>5256.82</td>\n",
              "      <td>60.4012</td>\n",
              "      <td>57.9851</td>\n",
              "      <td>711189.701316</td>\n",
              "      <td>304817.233382</td>\n",
              "      <td>0.009168</td>\n",
              "      <td>0.005748</td>\n",
              "      <td>-0.017247</td>\n",
              "      <td>-0.004075</td>\n",
              "      <td>-0.009344</td>\n",
              "      <td>0.010286</td>\n",
              "      <td>0.000942</td>\n",
              "      <td>0.000106</td>\n",
              "      <td>0.000087</td>\n",
              "      <td>0.000308</td>\n",
              "      <td>0.000092</td>\n",
              "    </tr>\n",
              "    <tr>\n",
              "      <th>3</th>\n",
              "      <td>2017-02-14</td>\n",
              "      <td>11771.81</td>\n",
              "      <td>5271.07</td>\n",
              "      <td>60.7171</td>\n",
              "      <td>57.1288</td>\n",
              "      <td>714750.164951</td>\n",
              "      <td>301129.903816</td>\n",
              "      <td>-0.000223</td>\n",
              "      <td>0.002707</td>\n",
              "      <td>0.005216</td>\n",
              "      <td>-0.014878</td>\n",
              "      <td>-0.006840</td>\n",
              "      <td>0.002483</td>\n",
              "      <td>-0.004357</td>\n",
              "      <td>0.000006</td>\n",
              "      <td>0.000047</td>\n",
              "      <td>0.000290</td>\n",
              "      <td>0.000090</td>\n",
              "    </tr>\n",
              "    <tr>\n",
              "      <th>4</th>\n",
              "      <td>2017-02-15</td>\n",
              "      <td>11793.93</td>\n",
              "      <td>5302.39</td>\n",
              "      <td>61.4459</td>\n",
              "      <td>57.2565</td>\n",
              "      <td>724688.643387</td>\n",
              "      <td>303596.293035</td>\n",
              "      <td>0.001877</td>\n",
              "      <td>0.005924</td>\n",
              "      <td>0.011932</td>\n",
              "      <td>0.002233</td>\n",
              "      <td>0.006112</td>\n",
              "      <td>0.006664</td>\n",
              "      <td>0.012776</td>\n",
              "      <td>0.000044</td>\n",
              "      <td>0.000037</td>\n",
              "      <td>0.000275</td>\n",
              "      <td>0.000087</td>\n",
              "    </tr>\n",
              "  </tbody>\n",
              "</table>\n",
              "</div>"
            ],
            "text/plain": [
              "        Date       DAX  NASDAQ100  EUR/RUB  USD/RUB        DAX_RUB  \\\n",
              "0 2017-02-09  11642.86    5212.16  61.9424  58.9600  721186.691264   \n",
              "1 2017-02-10  11666.97    5226.69  61.4520  58.2219  716958.640440   \n",
              "2 2017-02-13  11774.43    5256.82  60.4012  57.9851  711189.701316   \n",
              "3 2017-02-14  11771.81    5271.07  60.7171  57.1288  714750.164951   \n",
              "4 2017-02-15  11793.93    5302.39  61.4459  57.2565  724688.643387   \n",
              "\n",
              "   NASDAQ100_RUB      y_1t      y_2t  rt_EUR/RUB  rt_USD/RUB  Forex_return  \\\n",
              "0  307308.953600       NaN       NaN         NaN         NaN           NaN   \n",
              "1  304307.822511  0.002069  0.002784   -0.007949   -0.012598     -0.010738   \n",
              "2  304817.233382  0.009168  0.005748   -0.017247   -0.004075     -0.009344   \n",
              "3  301129.903816 -0.000223  0.002707    0.005216   -0.014878     -0.006840   \n",
              "4  303596.293035  0.001877  0.005924    0.011932    0.002233      0.006112   \n",
              "\n",
              "   Equity_return    rt_RUB  Equity_return^2  Forex_return^2  \\\n",
              "0            NaN       NaN              NaN             NaN   \n",
              "1       0.003748 -0.006990         0.000014        0.000115   \n",
              "2       0.010286  0.000942         0.000106        0.000087   \n",
              "3       0.002483 -0.004357         0.000006        0.000047   \n",
              "4       0.006664  0.012776         0.000044        0.000037   \n",
              "\n",
              "   Equity_Adjusted_Variance  Forex_Adjusted_Variance  \n",
              "0                  0.000340                 0.000091  \n",
              "1                  0.000321                 0.000093  \n",
              "2                  0.000308                 0.000092  \n",
              "3                  0.000290                 0.000090  \n",
              "4                  0.000275                 0.000087  "
            ]
          },
          "execution_count": 42,
          "metadata": {},
          "output_type": "execute_result"
        }
      ],
      "source": [
        "ds.head()"
      ]
    },
    {
      "cell_type": "code",
      "execution_count": null,
      "id": "ca38c00a",
      "metadata": {
        "id": "ca38c00a"
      },
      "outputs": [],
      "source": [
        "ds['Equity_Adjusted Volatility'] = np.sqrt(ds['Equity_Adjusted_Variance'])\n",
        "ds['Forex_Adjusted Volatility'] = np.sqrt(ds['Forex_Adjusted_Variance'])"
      ]
    },
    {
      "cell_type": "code",
      "execution_count": null,
      "id": "42ea1a72",
      "metadata": {
        "id": "42ea1a72",
        "outputId": "5d4d0dd6-dd3d-48fb-e014-88db9328d8d1"
      },
      "outputs": [
        {
          "data": {
            "text/html": [
              "<div>\n",
              "<style scoped>\n",
              "    .dataframe tbody tr th:only-of-type {\n",
              "        vertical-align: middle;\n",
              "    }\n",
              "\n",
              "    .dataframe tbody tr th {\n",
              "        vertical-align: top;\n",
              "    }\n",
              "\n",
              "    .dataframe thead th {\n",
              "        text-align: right;\n",
              "    }\n",
              "</style>\n",
              "<table border=\"1\" class=\"dataframe\">\n",
              "  <thead>\n",
              "    <tr style=\"text-align: right;\">\n",
              "      <th></th>\n",
              "      <th>Date</th>\n",
              "      <th>DAX</th>\n",
              "      <th>NASDAQ100</th>\n",
              "      <th>EUR/RUB</th>\n",
              "      <th>USD/RUB</th>\n",
              "      <th>DAX_RUB</th>\n",
              "      <th>NASDAQ100_RUB</th>\n",
              "      <th>y_1t</th>\n",
              "      <th>y_2t</th>\n",
              "      <th>rt_EUR/RUB</th>\n",
              "      <th>rt_USD/RUB</th>\n",
              "      <th>Forex_return</th>\n",
              "      <th>Equity_return</th>\n",
              "      <th>rt_RUB</th>\n",
              "      <th>Equity_return^2</th>\n",
              "      <th>Forex_return^2</th>\n",
              "      <th>Equity_Adjusted_Variance</th>\n",
              "      <th>Forex_Adjusted_Variance</th>\n",
              "      <th>Equity_Adjusted Volatility</th>\n",
              "      <th>Forex_Adjusted Volatility</th>\n",
              "    </tr>\n",
              "  </thead>\n",
              "  <tbody>\n",
              "    <tr>\n",
              "      <th>0</th>\n",
              "      <td>2017-02-09</td>\n",
              "      <td>11642.86</td>\n",
              "      <td>5212.16</td>\n",
              "      <td>61.9424</td>\n",
              "      <td>58.9600</td>\n",
              "      <td>721186.691264</td>\n",
              "      <td>307308.953600</td>\n",
              "      <td>NaN</td>\n",
              "      <td>NaN</td>\n",
              "      <td>NaN</td>\n",
              "      <td>NaN</td>\n",
              "      <td>NaN</td>\n",
              "      <td>NaN</td>\n",
              "      <td>NaN</td>\n",
              "      <td>NaN</td>\n",
              "      <td>NaN</td>\n",
              "      <td>0.000340</td>\n",
              "      <td>0.000091</td>\n",
              "      <td>0.018442</td>\n",
              "      <td>0.009559</td>\n",
              "    </tr>\n",
              "    <tr>\n",
              "      <th>1</th>\n",
              "      <td>2017-02-10</td>\n",
              "      <td>11666.97</td>\n",
              "      <td>5226.69</td>\n",
              "      <td>61.4520</td>\n",
              "      <td>58.2219</td>\n",
              "      <td>716958.640440</td>\n",
              "      <td>304307.822511</td>\n",
              "      <td>0.002069</td>\n",
              "      <td>0.002784</td>\n",
              "      <td>-0.007949</td>\n",
              "      <td>-0.012598</td>\n",
              "      <td>-0.010738</td>\n",
              "      <td>0.003748</td>\n",
              "      <td>-0.006990</td>\n",
              "      <td>0.000014</td>\n",
              "      <td>0.000115</td>\n",
              "      <td>0.000321</td>\n",
              "      <td>0.000093</td>\n",
              "      <td>0.017904</td>\n",
              "      <td>0.009633</td>\n",
              "    </tr>\n",
              "    <tr>\n",
              "      <th>2</th>\n",
              "      <td>2017-02-13</td>\n",
              "      <td>11774.43</td>\n",
              "      <td>5256.82</td>\n",
              "      <td>60.4012</td>\n",
              "      <td>57.9851</td>\n",
              "      <td>711189.701316</td>\n",
              "      <td>304817.233382</td>\n",
              "      <td>0.009168</td>\n",
              "      <td>0.005748</td>\n",
              "      <td>-0.017247</td>\n",
              "      <td>-0.004075</td>\n",
              "      <td>-0.009344</td>\n",
              "      <td>0.010286</td>\n",
              "      <td>0.000942</td>\n",
              "      <td>0.000106</td>\n",
              "      <td>0.000087</td>\n",
              "      <td>0.000308</td>\n",
              "      <td>0.000092</td>\n",
              "      <td>0.017540</td>\n",
              "      <td>0.009616</td>\n",
              "    </tr>\n",
              "    <tr>\n",
              "      <th>3</th>\n",
              "      <td>2017-02-14</td>\n",
              "      <td>11771.81</td>\n",
              "      <td>5271.07</td>\n",
              "      <td>60.7171</td>\n",
              "      <td>57.1288</td>\n",
              "      <td>714750.164951</td>\n",
              "      <td>301129.903816</td>\n",
              "      <td>-0.000223</td>\n",
              "      <td>0.002707</td>\n",
              "      <td>0.005216</td>\n",
              "      <td>-0.014878</td>\n",
              "      <td>-0.006840</td>\n",
              "      <td>0.002483</td>\n",
              "      <td>-0.004357</td>\n",
              "      <td>0.000006</td>\n",
              "      <td>0.000047</td>\n",
              "      <td>0.000290</td>\n",
              "      <td>0.000090</td>\n",
              "      <td>0.017017</td>\n",
              "      <td>0.009473</td>\n",
              "    </tr>\n",
              "    <tr>\n",
              "      <th>4</th>\n",
              "      <td>2017-02-15</td>\n",
              "      <td>11793.93</td>\n",
              "      <td>5302.39</td>\n",
              "      <td>61.4459</td>\n",
              "      <td>57.2565</td>\n",
              "      <td>724688.643387</td>\n",
              "      <td>303596.293035</td>\n",
              "      <td>0.001877</td>\n",
              "      <td>0.005924</td>\n",
              "      <td>0.011932</td>\n",
              "      <td>0.002233</td>\n",
              "      <td>0.006112</td>\n",
              "      <td>0.006664</td>\n",
              "      <td>0.012776</td>\n",
              "      <td>0.000044</td>\n",
              "      <td>0.000037</td>\n",
              "      <td>0.000275</td>\n",
              "      <td>0.000087</td>\n",
              "      <td>0.016579</td>\n",
              "      <td>0.009305</td>\n",
              "    </tr>\n",
              "  </tbody>\n",
              "</table>\n",
              "</div>"
            ],
            "text/plain": [
              "        Date       DAX  NASDAQ100  EUR/RUB  USD/RUB        DAX_RUB  \\\n",
              "0 2017-02-09  11642.86    5212.16  61.9424  58.9600  721186.691264   \n",
              "1 2017-02-10  11666.97    5226.69  61.4520  58.2219  716958.640440   \n",
              "2 2017-02-13  11774.43    5256.82  60.4012  57.9851  711189.701316   \n",
              "3 2017-02-14  11771.81    5271.07  60.7171  57.1288  714750.164951   \n",
              "4 2017-02-15  11793.93    5302.39  61.4459  57.2565  724688.643387   \n",
              "\n",
              "   NASDAQ100_RUB      y_1t      y_2t  rt_EUR/RUB  rt_USD/RUB  Forex_return  \\\n",
              "0  307308.953600       NaN       NaN         NaN         NaN           NaN   \n",
              "1  304307.822511  0.002069  0.002784   -0.007949   -0.012598     -0.010738   \n",
              "2  304817.233382  0.009168  0.005748   -0.017247   -0.004075     -0.009344   \n",
              "3  301129.903816 -0.000223  0.002707    0.005216   -0.014878     -0.006840   \n",
              "4  303596.293035  0.001877  0.005924    0.011932    0.002233      0.006112   \n",
              "\n",
              "   Equity_return    rt_RUB  Equity_return^2  Forex_return^2  \\\n",
              "0            NaN       NaN              NaN             NaN   \n",
              "1       0.003748 -0.006990         0.000014        0.000115   \n",
              "2       0.010286  0.000942         0.000106        0.000087   \n",
              "3       0.002483 -0.004357         0.000006        0.000047   \n",
              "4       0.006664  0.012776         0.000044        0.000037   \n",
              "\n",
              "   Equity_Adjusted_Variance  Forex_Adjusted_Variance  \\\n",
              "0                  0.000340                 0.000091   \n",
              "1                  0.000321                 0.000093   \n",
              "2                  0.000308                 0.000092   \n",
              "3                  0.000290                 0.000090   \n",
              "4                  0.000275                 0.000087   \n",
              "\n",
              "   Equity_Adjusted Volatility  Forex_Adjusted Volatility  \n",
              "0                    0.018442                   0.009559  \n",
              "1                    0.017904                   0.009633  \n",
              "2                    0.017540                   0.009616  \n",
              "3                    0.017017                   0.009473  \n",
              "4                    0.016579                   0.009305  "
            ]
          },
          "execution_count": 44,
          "metadata": {},
          "output_type": "execute_result"
        }
      ],
      "source": [
        "ds.head()"
      ]
    },
    {
      "cell_type": "code",
      "execution_count": null,
      "id": "d344e473",
      "metadata": {
        "id": "d344e473"
      },
      "outputs": [],
      "source": [
        "# Now we need to estimate the correlations."
      ]
    },
    {
      "cell_type": "code",
      "execution_count": null,
      "id": "efe519e1",
      "metadata": {
        "id": "efe519e1"
      },
      "outputs": [],
      "source": [
        "ds['Return_Product'] = ds['Forex_return']*ds['Equity_return'] \n",
        "ds['Return_Product'] = ds['Return_Product'].fillna(0)"
      ]
    },
    {
      "cell_type": "code",
      "execution_count": null,
      "id": "a20c0860",
      "metadata": {
        "id": "a20c0860"
      },
      "outputs": [],
      "source": [
        "ds['Covariance'] = 0\n",
        "ds['Covariance'].iloc[0] = ds['Return_Product'].mean()"
      ]
    },
    {
      "cell_type": "code",
      "execution_count": null,
      "id": "b558bef3",
      "metadata": {
        "id": "b558bef3",
        "outputId": "8a5671b0-3c2c-471e-d660-580072ea8d99"
      },
      "outputs": [
        {
          "data": {
            "text/html": [
              "<div>\n",
              "<style scoped>\n",
              "    .dataframe tbody tr th:only-of-type {\n",
              "        vertical-align: middle;\n",
              "    }\n",
              "\n",
              "    .dataframe tbody tr th {\n",
              "        vertical-align: top;\n",
              "    }\n",
              "\n",
              "    .dataframe thead th {\n",
              "        text-align: right;\n",
              "    }\n",
              "</style>\n",
              "<table border=\"1\" class=\"dataframe\">\n",
              "  <thead>\n",
              "    <tr style=\"text-align: right;\">\n",
              "      <th></th>\n",
              "      <th>Date</th>\n",
              "      <th>DAX</th>\n",
              "      <th>NASDAQ100</th>\n",
              "      <th>EUR/RUB</th>\n",
              "      <th>USD/RUB</th>\n",
              "      <th>DAX_RUB</th>\n",
              "      <th>NASDAQ100_RUB</th>\n",
              "      <th>y_1t</th>\n",
              "      <th>y_2t</th>\n",
              "      <th>rt_EUR/RUB</th>\n",
              "      <th>...</th>\n",
              "      <th>Equity_return</th>\n",
              "      <th>rt_RUB</th>\n",
              "      <th>Equity_return^2</th>\n",
              "      <th>Forex_return^2</th>\n",
              "      <th>Equity_Adjusted_Variance</th>\n",
              "      <th>Forex_Adjusted_Variance</th>\n",
              "      <th>Equity_Adjusted Volatility</th>\n",
              "      <th>Forex_Adjusted Volatility</th>\n",
              "      <th>Return_Product</th>\n",
              "      <th>Covariance</th>\n",
              "    </tr>\n",
              "  </thead>\n",
              "  <tbody>\n",
              "    <tr>\n",
              "      <th>0</th>\n",
              "      <td>2017-02-09</td>\n",
              "      <td>11642.86</td>\n",
              "      <td>5212.16</td>\n",
              "      <td>61.9424</td>\n",
              "      <td>58.9600</td>\n",
              "      <td>721186.691264</td>\n",
              "      <td>307308.953600</td>\n",
              "      <td>NaN</td>\n",
              "      <td>NaN</td>\n",
              "      <td>NaN</td>\n",
              "      <td>...</td>\n",
              "      <td>NaN</td>\n",
              "      <td>NaN</td>\n",
              "      <td>NaN</td>\n",
              "      <td>NaN</td>\n",
              "      <td>0.000340</td>\n",
              "      <td>0.000091</td>\n",
              "      <td>0.018442</td>\n",
              "      <td>0.009559</td>\n",
              "      <td>0.000000</td>\n",
              "      <td>-0.00006</td>\n",
              "    </tr>\n",
              "    <tr>\n",
              "      <th>1</th>\n",
              "      <td>2017-02-10</td>\n",
              "      <td>11666.97</td>\n",
              "      <td>5226.69</td>\n",
              "      <td>61.4520</td>\n",
              "      <td>58.2219</td>\n",
              "      <td>716958.640440</td>\n",
              "      <td>304307.822511</td>\n",
              "      <td>0.002069</td>\n",
              "      <td>0.002784</td>\n",
              "      <td>-0.007949</td>\n",
              "      <td>...</td>\n",
              "      <td>0.003748</td>\n",
              "      <td>-0.006990</td>\n",
              "      <td>0.000014</td>\n",
              "      <td>0.000115</td>\n",
              "      <td>0.000321</td>\n",
              "      <td>0.000093</td>\n",
              "      <td>0.017904</td>\n",
              "      <td>0.009633</td>\n",
              "      <td>-0.000040</td>\n",
              "      <td>0.00000</td>\n",
              "    </tr>\n",
              "    <tr>\n",
              "      <th>2</th>\n",
              "      <td>2017-02-13</td>\n",
              "      <td>11774.43</td>\n",
              "      <td>5256.82</td>\n",
              "      <td>60.4012</td>\n",
              "      <td>57.9851</td>\n",
              "      <td>711189.701316</td>\n",
              "      <td>304817.233382</td>\n",
              "      <td>0.009168</td>\n",
              "      <td>0.005748</td>\n",
              "      <td>-0.017247</td>\n",
              "      <td>...</td>\n",
              "      <td>0.010286</td>\n",
              "      <td>0.000942</td>\n",
              "      <td>0.000106</td>\n",
              "      <td>0.000087</td>\n",
              "      <td>0.000308</td>\n",
              "      <td>0.000092</td>\n",
              "      <td>0.017540</td>\n",
              "      <td>0.009616</td>\n",
              "      <td>-0.000096</td>\n",
              "      <td>0.00000</td>\n",
              "    </tr>\n",
              "    <tr>\n",
              "      <th>3</th>\n",
              "      <td>2017-02-14</td>\n",
              "      <td>11771.81</td>\n",
              "      <td>5271.07</td>\n",
              "      <td>60.7171</td>\n",
              "      <td>57.1288</td>\n",
              "      <td>714750.164951</td>\n",
              "      <td>301129.903816</td>\n",
              "      <td>-0.000223</td>\n",
              "      <td>0.002707</td>\n",
              "      <td>0.005216</td>\n",
              "      <td>...</td>\n",
              "      <td>0.002483</td>\n",
              "      <td>-0.004357</td>\n",
              "      <td>0.000006</td>\n",
              "      <td>0.000047</td>\n",
              "      <td>0.000290</td>\n",
              "      <td>0.000090</td>\n",
              "      <td>0.017017</td>\n",
              "      <td>0.009473</td>\n",
              "      <td>-0.000017</td>\n",
              "      <td>0.00000</td>\n",
              "    </tr>\n",
              "    <tr>\n",
              "      <th>4</th>\n",
              "      <td>2017-02-15</td>\n",
              "      <td>11793.93</td>\n",
              "      <td>5302.39</td>\n",
              "      <td>61.4459</td>\n",
              "      <td>57.2565</td>\n",
              "      <td>724688.643387</td>\n",
              "      <td>303596.293035</td>\n",
              "      <td>0.001877</td>\n",
              "      <td>0.005924</td>\n",
              "      <td>0.011932</td>\n",
              "      <td>...</td>\n",
              "      <td>0.006664</td>\n",
              "      <td>0.012776</td>\n",
              "      <td>0.000044</td>\n",
              "      <td>0.000037</td>\n",
              "      <td>0.000275</td>\n",
              "      <td>0.000087</td>\n",
              "      <td>0.016579</td>\n",
              "      <td>0.009305</td>\n",
              "      <td>0.000041</td>\n",
              "      <td>0.00000</td>\n",
              "    </tr>\n",
              "  </tbody>\n",
              "</table>\n",
              "<p>5 rows × 22 columns</p>\n",
              "</div>"
            ],
            "text/plain": [
              "        Date       DAX  NASDAQ100  EUR/RUB  USD/RUB        DAX_RUB  \\\n",
              "0 2017-02-09  11642.86    5212.16  61.9424  58.9600  721186.691264   \n",
              "1 2017-02-10  11666.97    5226.69  61.4520  58.2219  716958.640440   \n",
              "2 2017-02-13  11774.43    5256.82  60.4012  57.9851  711189.701316   \n",
              "3 2017-02-14  11771.81    5271.07  60.7171  57.1288  714750.164951   \n",
              "4 2017-02-15  11793.93    5302.39  61.4459  57.2565  724688.643387   \n",
              "\n",
              "   NASDAQ100_RUB      y_1t      y_2t  rt_EUR/RUB  ...  Equity_return  \\\n",
              "0  307308.953600       NaN       NaN         NaN  ...            NaN   \n",
              "1  304307.822511  0.002069  0.002784   -0.007949  ...       0.003748   \n",
              "2  304817.233382  0.009168  0.005748   -0.017247  ...       0.010286   \n",
              "3  301129.903816 -0.000223  0.002707    0.005216  ...       0.002483   \n",
              "4  303596.293035  0.001877  0.005924    0.011932  ...       0.006664   \n",
              "\n",
              "     rt_RUB  Equity_return^2  Forex_return^2  Equity_Adjusted_Variance  \\\n",
              "0       NaN              NaN             NaN                  0.000340   \n",
              "1 -0.006990         0.000014        0.000115                  0.000321   \n",
              "2  0.000942         0.000106        0.000087                  0.000308   \n",
              "3 -0.004357         0.000006        0.000047                  0.000290   \n",
              "4  0.012776         0.000044        0.000037                  0.000275   \n",
              "\n",
              "   Forex_Adjusted_Variance  Equity_Adjusted Volatility  \\\n",
              "0                 0.000091                    0.018442   \n",
              "1                 0.000093                    0.017904   \n",
              "2                 0.000092                    0.017540   \n",
              "3                 0.000090                    0.017017   \n",
              "4                 0.000087                    0.016579   \n",
              "\n",
              "   Forex_Adjusted Volatility  Return_Product  Covariance  \n",
              "0                   0.009559        0.000000    -0.00006  \n",
              "1                   0.009633       -0.000040     0.00000  \n",
              "2                   0.009616       -0.000096     0.00000  \n",
              "3                   0.009473       -0.000017     0.00000  \n",
              "4                   0.009305        0.000041     0.00000  \n",
              "\n",
              "[5 rows x 22 columns]"
            ]
          },
          "execution_count": 48,
          "metadata": {},
          "output_type": "execute_result"
        }
      ],
      "source": [
        "ds.head()"
      ]
    },
    {
      "cell_type": "code",
      "execution_count": null,
      "id": "c5d15c20",
      "metadata": {
        "id": "c5d15c20"
      },
      "outputs": [],
      "source": [
        "# I still need to verify this equation as I am not sure about it.\n",
        "\n",
        "for i in range(1,ds.shape[0]):\n",
        "    ds.loc[i, 'Covariance'] = (1-lbd)*ds.loc[i-1, 'Return_Product'] + lbd*ds.loc[i-1, 'Covariance']   "
      ]
    },
    {
      "cell_type": "code",
      "execution_count": null,
      "id": "03cd30d3",
      "metadata": {
        "id": "03cd30d3",
        "outputId": "6f6d43b0-0d7b-4c68-fa8e-30583575a5b3"
      },
      "outputs": [
        {
          "data": {
            "text/html": [
              "<div>\n",
              "<style scoped>\n",
              "    .dataframe tbody tr th:only-of-type {\n",
              "        vertical-align: middle;\n",
              "    }\n",
              "\n",
              "    .dataframe tbody tr th {\n",
              "        vertical-align: top;\n",
              "    }\n",
              "\n",
              "    .dataframe thead th {\n",
              "        text-align: right;\n",
              "    }\n",
              "</style>\n",
              "<table border=\"1\" class=\"dataframe\">\n",
              "  <thead>\n",
              "    <tr style=\"text-align: right;\">\n",
              "      <th></th>\n",
              "      <th>Date</th>\n",
              "      <th>DAX</th>\n",
              "      <th>NASDAQ100</th>\n",
              "      <th>EUR/RUB</th>\n",
              "      <th>USD/RUB</th>\n",
              "      <th>DAX_RUB</th>\n",
              "      <th>NASDAQ100_RUB</th>\n",
              "      <th>y_1t</th>\n",
              "      <th>y_2t</th>\n",
              "      <th>rt_EUR/RUB</th>\n",
              "      <th>...</th>\n",
              "      <th>Equity_return</th>\n",
              "      <th>rt_RUB</th>\n",
              "      <th>Equity_return^2</th>\n",
              "      <th>Forex_return^2</th>\n",
              "      <th>Equity_Adjusted_Variance</th>\n",
              "      <th>Forex_Adjusted_Variance</th>\n",
              "      <th>Equity_Adjusted Volatility</th>\n",
              "      <th>Forex_Adjusted Volatility</th>\n",
              "      <th>Return_Product</th>\n",
              "      <th>Covariance</th>\n",
              "    </tr>\n",
              "  </thead>\n",
              "  <tbody>\n",
              "    <tr>\n",
              "      <th>0</th>\n",
              "      <td>2017-02-09</td>\n",
              "      <td>11642.86</td>\n",
              "      <td>5212.16</td>\n",
              "      <td>61.9424</td>\n",
              "      <td>58.9600</td>\n",
              "      <td>721186.691264</td>\n",
              "      <td>307308.953600</td>\n",
              "      <td>NaN</td>\n",
              "      <td>NaN</td>\n",
              "      <td>NaN</td>\n",
              "      <td>...</td>\n",
              "      <td>NaN</td>\n",
              "      <td>NaN</td>\n",
              "      <td>NaN</td>\n",
              "      <td>NaN</td>\n",
              "      <td>0.000340</td>\n",
              "      <td>0.000091</td>\n",
              "      <td>0.018442</td>\n",
              "      <td>0.009559</td>\n",
              "      <td>0.000000</td>\n",
              "      <td>-0.000060</td>\n",
              "    </tr>\n",
              "    <tr>\n",
              "      <th>1</th>\n",
              "      <td>2017-02-10</td>\n",
              "      <td>11666.97</td>\n",
              "      <td>5226.69</td>\n",
              "      <td>61.4520</td>\n",
              "      <td>58.2219</td>\n",
              "      <td>716958.640440</td>\n",
              "      <td>304307.822511</td>\n",
              "      <td>0.002069</td>\n",
              "      <td>0.002784</td>\n",
              "      <td>-0.007949</td>\n",
              "      <td>...</td>\n",
              "      <td>0.003748</td>\n",
              "      <td>-0.006990</td>\n",
              "      <td>0.000014</td>\n",
              "      <td>0.000115</td>\n",
              "      <td>0.000321</td>\n",
              "      <td>0.000093</td>\n",
              "      <td>0.017904</td>\n",
              "      <td>0.009633</td>\n",
              "      <td>-0.000040</td>\n",
              "      <td>-0.000057</td>\n",
              "    </tr>\n",
              "    <tr>\n",
              "      <th>2</th>\n",
              "      <td>2017-02-13</td>\n",
              "      <td>11774.43</td>\n",
              "      <td>5256.82</td>\n",
              "      <td>60.4012</td>\n",
              "      <td>57.9851</td>\n",
              "      <td>711189.701316</td>\n",
              "      <td>304817.233382</td>\n",
              "      <td>0.009168</td>\n",
              "      <td>0.005748</td>\n",
              "      <td>-0.017247</td>\n",
              "      <td>...</td>\n",
              "      <td>0.010286</td>\n",
              "      <td>0.000942</td>\n",
              "      <td>0.000106</td>\n",
              "      <td>0.000087</td>\n",
              "      <td>0.000308</td>\n",
              "      <td>0.000092</td>\n",
              "      <td>0.017540</td>\n",
              "      <td>0.009616</td>\n",
              "      <td>-0.000096</td>\n",
              "      <td>-0.000056</td>\n",
              "    </tr>\n",
              "    <tr>\n",
              "      <th>3</th>\n",
              "      <td>2017-02-14</td>\n",
              "      <td>11771.81</td>\n",
              "      <td>5271.07</td>\n",
              "      <td>60.7171</td>\n",
              "      <td>57.1288</td>\n",
              "      <td>714750.164951</td>\n",
              "      <td>301129.903816</td>\n",
              "      <td>-0.000223</td>\n",
              "      <td>0.002707</td>\n",
              "      <td>0.005216</td>\n",
              "      <td>...</td>\n",
              "      <td>0.002483</td>\n",
              "      <td>-0.004357</td>\n",
              "      <td>0.000006</td>\n",
              "      <td>0.000047</td>\n",
              "      <td>0.000290</td>\n",
              "      <td>0.000090</td>\n",
              "      <td>0.017017</td>\n",
              "      <td>0.009473</td>\n",
              "      <td>-0.000017</td>\n",
              "      <td>-0.000058</td>\n",
              "    </tr>\n",
              "    <tr>\n",
              "      <th>4</th>\n",
              "      <td>2017-02-15</td>\n",
              "      <td>11793.93</td>\n",
              "      <td>5302.39</td>\n",
              "      <td>61.4459</td>\n",
              "      <td>57.2565</td>\n",
              "      <td>724688.643387</td>\n",
              "      <td>303596.293035</td>\n",
              "      <td>0.001877</td>\n",
              "      <td>0.005924</td>\n",
              "      <td>0.011932</td>\n",
              "      <td>...</td>\n",
              "      <td>0.006664</td>\n",
              "      <td>0.012776</td>\n",
              "      <td>0.000044</td>\n",
              "      <td>0.000037</td>\n",
              "      <td>0.000275</td>\n",
              "      <td>0.000087</td>\n",
              "      <td>0.016579</td>\n",
              "      <td>0.009305</td>\n",
              "      <td>0.000041</td>\n",
              "      <td>-0.000056</td>\n",
              "    </tr>\n",
              "  </tbody>\n",
              "</table>\n",
              "<p>5 rows × 22 columns</p>\n",
              "</div>"
            ],
            "text/plain": [
              "        Date       DAX  NASDAQ100  EUR/RUB  USD/RUB        DAX_RUB  \\\n",
              "0 2017-02-09  11642.86    5212.16  61.9424  58.9600  721186.691264   \n",
              "1 2017-02-10  11666.97    5226.69  61.4520  58.2219  716958.640440   \n",
              "2 2017-02-13  11774.43    5256.82  60.4012  57.9851  711189.701316   \n",
              "3 2017-02-14  11771.81    5271.07  60.7171  57.1288  714750.164951   \n",
              "4 2017-02-15  11793.93    5302.39  61.4459  57.2565  724688.643387   \n",
              "\n",
              "   NASDAQ100_RUB      y_1t      y_2t  rt_EUR/RUB  ...  Equity_return  \\\n",
              "0  307308.953600       NaN       NaN         NaN  ...            NaN   \n",
              "1  304307.822511  0.002069  0.002784   -0.007949  ...       0.003748   \n",
              "2  304817.233382  0.009168  0.005748   -0.017247  ...       0.010286   \n",
              "3  301129.903816 -0.000223  0.002707    0.005216  ...       0.002483   \n",
              "4  303596.293035  0.001877  0.005924    0.011932  ...       0.006664   \n",
              "\n",
              "     rt_RUB  Equity_return^2  Forex_return^2  Equity_Adjusted_Variance  \\\n",
              "0       NaN              NaN             NaN                  0.000340   \n",
              "1 -0.006990         0.000014        0.000115                  0.000321   \n",
              "2  0.000942         0.000106        0.000087                  0.000308   \n",
              "3 -0.004357         0.000006        0.000047                  0.000290   \n",
              "4  0.012776         0.000044        0.000037                  0.000275   \n",
              "\n",
              "   Forex_Adjusted_Variance  Equity_Adjusted Volatility  \\\n",
              "0                 0.000091                    0.018442   \n",
              "1                 0.000093                    0.017904   \n",
              "2                 0.000092                    0.017540   \n",
              "3                 0.000090                    0.017017   \n",
              "4                 0.000087                    0.016579   \n",
              "\n",
              "   Forex_Adjusted Volatility  Return_Product  Covariance  \n",
              "0                   0.009559        0.000000   -0.000060  \n",
              "1                   0.009633       -0.000040   -0.000057  \n",
              "2                   0.009616       -0.000096   -0.000056  \n",
              "3                   0.009473       -0.000017   -0.000058  \n",
              "4                   0.009305        0.000041   -0.000056  \n",
              "\n",
              "[5 rows x 22 columns]"
            ]
          },
          "execution_count": 50,
          "metadata": {},
          "output_type": "execute_result"
        }
      ],
      "source": [
        "ds.head()"
      ]
    },
    {
      "cell_type": "code",
      "execution_count": null,
      "id": "acea7bec",
      "metadata": {
        "id": "acea7bec"
      },
      "outputs": [],
      "source": [
        "ds['Correlation'] = ds['Covariance']/(ds['Equity_Adjusted Volatility']*ds['Forex_Adjusted Volatility'])"
      ]
    },
    {
      "cell_type": "code",
      "execution_count": null,
      "id": "f8ce2a03",
      "metadata": {
        "id": "f8ce2a03",
        "outputId": "b3c91f91-fb59-4249-9a12-4d7b927653a9"
      },
      "outputs": [
        {
          "data": {
            "text/html": [
              "<div>\n",
              "<style scoped>\n",
              "    .dataframe tbody tr th:only-of-type {\n",
              "        vertical-align: middle;\n",
              "    }\n",
              "\n",
              "    .dataframe tbody tr th {\n",
              "        vertical-align: top;\n",
              "    }\n",
              "\n",
              "    .dataframe thead th {\n",
              "        text-align: right;\n",
              "    }\n",
              "</style>\n",
              "<table border=\"1\" class=\"dataframe\">\n",
              "  <thead>\n",
              "    <tr style=\"text-align: right;\">\n",
              "      <th></th>\n",
              "      <th>Date</th>\n",
              "      <th>DAX</th>\n",
              "      <th>NASDAQ100</th>\n",
              "      <th>EUR/RUB</th>\n",
              "      <th>USD/RUB</th>\n",
              "      <th>DAX_RUB</th>\n",
              "      <th>NASDAQ100_RUB</th>\n",
              "      <th>y_1t</th>\n",
              "      <th>y_2t</th>\n",
              "      <th>rt_EUR/RUB</th>\n",
              "      <th>...</th>\n",
              "      <th>rt_RUB</th>\n",
              "      <th>Equity_return^2</th>\n",
              "      <th>Forex_return^2</th>\n",
              "      <th>Equity_Adjusted_Variance</th>\n",
              "      <th>Forex_Adjusted_Variance</th>\n",
              "      <th>Equity_Adjusted Volatility</th>\n",
              "      <th>Forex_Adjusted Volatility</th>\n",
              "      <th>Return_Product</th>\n",
              "      <th>Covariance</th>\n",
              "      <th>Correlation</th>\n",
              "    </tr>\n",
              "  </thead>\n",
              "  <tbody>\n",
              "    <tr>\n",
              "      <th>1229</th>\n",
              "      <td>2022-03-03</td>\n",
              "      <td>13698.40</td>\n",
              "      <td>14035.21</td>\n",
              "      <td>117.6000</td>\n",
              "      <td>109.8960</td>\n",
              "      <td>1.610932e+06</td>\n",
              "      <td>1.542413e+06</td>\n",
              "      <td>-0.021786</td>\n",
              "      <td>-0.014745</td>\n",
              "      <td>0.018885</td>\n",
              "      <td>...</td>\n",
              "      <td>0.021825</td>\n",
              "      <td>0.000649</td>\n",
              "      <td>0.002238</td>\n",
              "      <td>0.000538</td>\n",
              "      <td>0.001321</td>\n",
              "      <td>0.023188</td>\n",
              "      <td>0.036351</td>\n",
              "      <td>-0.001206</td>\n",
              "      <td>-0.000018</td>\n",
              "      <td>-0.021537</td>\n",
              "    </tr>\n",
              "    <tr>\n",
              "      <th>1230</th>\n",
              "      <td>2022-03-04</td>\n",
              "      <td>13094.54</td>\n",
              "      <td>13837.83</td>\n",
              "      <td>118.9925</td>\n",
              "      <td>122.5375</td>\n",
              "      <td>1.558152e+06</td>\n",
              "      <td>1.695653e+06</td>\n",
              "      <td>-0.045084</td>\n",
              "      <td>-0.014163</td>\n",
              "      <td>0.011771</td>\n",
              "      <td>...</td>\n",
              "      <td>0.032998</td>\n",
              "      <td>0.001372</td>\n",
              "      <td>0.004905</td>\n",
              "      <td>0.000588</td>\n",
              "      <td>0.001536</td>\n",
              "      <td>0.024243</td>\n",
              "      <td>0.039197</td>\n",
              "      <td>-0.002594</td>\n",
              "      <td>-0.000089</td>\n",
              "      <td>-0.094079</td>\n",
              "    </tr>\n",
              "    <tr>\n",
              "      <th>1231</th>\n",
              "      <td>2022-03-07</td>\n",
              "      <td>12834.65</td>\n",
              "      <td>13319.38</td>\n",
              "      <td>118.9925</td>\n",
              "      <td>143.0000</td>\n",
              "      <td>1.527227e+06</td>\n",
              "      <td>1.904671e+06</td>\n",
              "      <td>-0.020047</td>\n",
              "      <td>-0.038186</td>\n",
              "      <td>0.000000</td>\n",
              "      <td>...</td>\n",
              "      <td>0.045574</td>\n",
              "      <td>0.002217</td>\n",
              "      <td>0.008585</td>\n",
              "      <td>0.000685</td>\n",
              "      <td>0.001959</td>\n",
              "      <td>0.026182</td>\n",
              "      <td>0.044264</td>\n",
              "      <td>-0.004363</td>\n",
              "      <td>-0.000240</td>\n",
              "      <td>-0.206822</td>\n",
              "    </tr>\n",
              "    <tr>\n",
              "      <th>1232</th>\n",
              "      <td>2022-03-08</td>\n",
              "      <td>12831.51</td>\n",
              "      <td>13267.61</td>\n",
              "      <td>118.9925</td>\n",
              "      <td>127.5000</td>\n",
              "      <td>1.526853e+06</td>\n",
              "      <td>1.691620e+06</td>\n",
              "      <td>-0.000245</td>\n",
              "      <td>-0.003894</td>\n",
              "      <td>0.000000</td>\n",
              "      <td>...</td>\n",
              "      <td>-0.072703</td>\n",
              "      <td>0.000015</td>\n",
              "      <td>0.004739</td>\n",
              "      <td>0.000645</td>\n",
              "      <td>0.002126</td>\n",
              "      <td>0.025402</td>\n",
              "      <td>0.046110</td>\n",
              "      <td>0.000266</td>\n",
              "      <td>-0.000487</td>\n",
              "      <td>-0.415843</td>\n",
              "    </tr>\n",
              "    <tr>\n",
              "      <th>1233</th>\n",
              "      <td>2022-03-09</td>\n",
              "      <td>13847.93</td>\n",
              "      <td>13742.20</td>\n",
              "      <td>127.0000</td>\n",
              "      <td>120.0000</td>\n",
              "      <td>1.758687e+06</td>\n",
              "      <td>1.649064e+06</td>\n",
              "      <td>0.076232</td>\n",
              "      <td>0.035146</td>\n",
              "      <td>0.065127</td>\n",
              "      <td>...</td>\n",
              "      <td>0.063056</td>\n",
              "      <td>0.005385</td>\n",
              "      <td>0.000107</td>\n",
              "      <td>0.000930</td>\n",
              "      <td>0.002005</td>\n",
              "      <td>0.030490</td>\n",
              "      <td>0.044776</td>\n",
              "      <td>-0.000758</td>\n",
              "      <td>-0.000442</td>\n",
              "      <td>-0.323664</td>\n",
              "    </tr>\n",
              "  </tbody>\n",
              "</table>\n",
              "<p>5 rows × 23 columns</p>\n",
              "</div>"
            ],
            "text/plain": [
              "           Date       DAX  NASDAQ100   EUR/RUB   USD/RUB       DAX_RUB  \\\n",
              "1229 2022-03-03  13698.40   14035.21  117.6000  109.8960  1.610932e+06   \n",
              "1230 2022-03-04  13094.54   13837.83  118.9925  122.5375  1.558152e+06   \n",
              "1231 2022-03-07  12834.65   13319.38  118.9925  143.0000  1.527227e+06   \n",
              "1232 2022-03-08  12831.51   13267.61  118.9925  127.5000  1.526853e+06   \n",
              "1233 2022-03-09  13847.93   13742.20  127.0000  120.0000  1.758687e+06   \n",
              "\n",
              "      NASDAQ100_RUB      y_1t      y_2t  rt_EUR/RUB  ...    rt_RUB  \\\n",
              "1229   1.542413e+06 -0.021786 -0.014745    0.018885  ...  0.021825   \n",
              "1230   1.695653e+06 -0.045084 -0.014163    0.011771  ...  0.032998   \n",
              "1231   1.904671e+06 -0.020047 -0.038186    0.000000  ...  0.045574   \n",
              "1232   1.691620e+06 -0.000245 -0.003894    0.000000  ... -0.072703   \n",
              "1233   1.649064e+06  0.076232  0.035146    0.065127  ...  0.063056   \n",
              "\n",
              "      Equity_return^2  Forex_return^2  Equity_Adjusted_Variance  \\\n",
              "1229         0.000649        0.002238                  0.000538   \n",
              "1230         0.001372        0.004905                  0.000588   \n",
              "1231         0.002217        0.008585                  0.000685   \n",
              "1232         0.000015        0.004739                  0.000645   \n",
              "1233         0.005385        0.000107                  0.000930   \n",
              "\n",
              "      Forex_Adjusted_Variance  Equity_Adjusted Volatility  \\\n",
              "1229                 0.001321                    0.023188   \n",
              "1230                 0.001536                    0.024243   \n",
              "1231                 0.001959                    0.026182   \n",
              "1232                 0.002126                    0.025402   \n",
              "1233                 0.002005                    0.030490   \n",
              "\n",
              "      Forex_Adjusted Volatility  Return_Product  Covariance  Correlation  \n",
              "1229                   0.036351       -0.001206   -0.000018    -0.021537  \n",
              "1230                   0.039197       -0.002594   -0.000089    -0.094079  \n",
              "1231                   0.044264       -0.004363   -0.000240    -0.206822  \n",
              "1232                   0.046110        0.000266   -0.000487    -0.415843  \n",
              "1233                   0.044776       -0.000758   -0.000442    -0.323664  \n",
              "\n",
              "[5 rows x 23 columns]"
            ]
          },
          "execution_count": 52,
          "metadata": {},
          "output_type": "execute_result"
        }
      ],
      "source": [
        "ds.tail()"
      ]
    },
    {
      "cell_type": "code",
      "execution_count": null,
      "id": "3c60911f",
      "metadata": {
        "id": "3c60911f",
        "outputId": "d15eb9bb-5076-4615-e46b-2aff5789cd5b"
      },
      "outputs": [
        {
          "data": {
            "text/plain": [
              "Index(['Date', 'DAX', 'NASDAQ100', 'EUR/RUB', 'USD/RUB', 'DAX_RUB',\n",
              "       'NASDAQ100_RUB', 'y_1t', 'y_2t', 'rt_EUR/RUB', 'rt_USD/RUB',\n",
              "       'Forex_return', 'Equity_return', 'rt_RUB', 'Equity_return^2',\n",
              "       'Forex_return^2', 'Equity_Adjusted_Variance', 'Forex_Adjusted_Variance',\n",
              "       'Equity_Adjusted Volatility', 'Forex_Adjusted Volatility',\n",
              "       'Return_Product', 'Covariance', 'Correlation'],\n",
              "      dtype='object')"
            ]
          },
          "execution_count": 53,
          "metadata": {},
          "output_type": "execute_result"
        }
      ],
      "source": [
        "ds.columns"
      ]
    },
    {
      "cell_type": "markdown",
      "id": "cda5b03f",
      "metadata": {
        "id": "cda5b03f"
      },
      "source": [
        "## Question 2:"
      ]
    },
    {
      "cell_type": "code",
      "execution_count": null,
      "id": "2db38d80",
      "metadata": {
        "id": "2db38d80"
      },
      "outputs": [],
      "source": [
        "# Calculating the adjusted portfolios returns, and comparing them with the original ones."
      ]
    },
    {
      "cell_type": "code",
      "execution_count": null,
      "id": "aac920b5",
      "metadata": {
        "id": "aac920b5"
      },
      "outputs": [],
      "source": [
        "ds['Adjusted_Equity_return'] = ds['Equity_return'] \\\n",
        "                *(ds['Equity_Adjusted Volatility']/ds.loc[ds.shape[0]-1, 'Equity_Adjusted Volatility'])"
      ]
    },
    {
      "cell_type": "code",
      "execution_count": null,
      "id": "53374697",
      "metadata": {
        "id": "53374697"
      },
      "outputs": [],
      "source": [
        "ds['Adjusted_Forex_return'] = ds['Forex_return']*(ds['Forex_Adjusted Volatility']/ds.loc[ds.shape[0]-1, 'Forex_Adjusted Volatility'])"
      ]
    },
    {
      "cell_type": "code",
      "execution_count": null,
      "id": "539ac563",
      "metadata": {
        "id": "539ac563"
      },
      "outputs": [],
      "source": [
        "# Comparing the returns, and commenting. "
      ]
    },
    {
      "cell_type": "code",
      "execution_count": null,
      "id": "e0fe1dc9",
      "metadata": {
        "id": "e0fe1dc9",
        "outputId": "1d14536d-0675-4f67-ce5f-368c02ece336"
      },
      "outputs": [
        {
          "data": {
            "text/html": [
              "<div>\n",
              "<style scoped>\n",
              "    .dataframe tbody tr th:only-of-type {\n",
              "        vertical-align: middle;\n",
              "    }\n",
              "\n",
              "    .dataframe tbody tr th {\n",
              "        vertical-align: top;\n",
              "    }\n",
              "\n",
              "    .dataframe thead th {\n",
              "        text-align: right;\n",
              "    }\n",
              "</style>\n",
              "<table border=\"1\" class=\"dataframe\">\n",
              "  <thead>\n",
              "    <tr style=\"text-align: right;\">\n",
              "      <th></th>\n",
              "      <th>Equity_return</th>\n",
              "      <th>Adjusted_Equity_return</th>\n",
              "    </tr>\n",
              "  </thead>\n",
              "  <tbody>\n",
              "    <tr>\n",
              "      <th>0</th>\n",
              "      <td>NaN</td>\n",
              "      <td>NaN</td>\n",
              "    </tr>\n",
              "    <tr>\n",
              "      <th>1</th>\n",
              "      <td>0.003748</td>\n",
              "      <td>0.002201</td>\n",
              "    </tr>\n",
              "    <tr>\n",
              "      <th>2</th>\n",
              "      <td>0.010286</td>\n",
              "      <td>0.005917</td>\n",
              "    </tr>\n",
              "    <tr>\n",
              "      <th>3</th>\n",
              "      <td>0.002483</td>\n",
              "      <td>0.001386</td>\n",
              "    </tr>\n",
              "    <tr>\n",
              "      <th>4</th>\n",
              "      <td>0.006664</td>\n",
              "      <td>0.003623</td>\n",
              "    </tr>\n",
              "    <tr>\n",
              "      <th>...</th>\n",
              "      <td>...</td>\n",
              "      <td>...</td>\n",
              "    </tr>\n",
              "    <tr>\n",
              "      <th>1229</th>\n",
              "      <td>-0.025484</td>\n",
              "      <td>-0.019381</td>\n",
              "    </tr>\n",
              "    <tr>\n",
              "      <th>1230</th>\n",
              "      <td>-0.037040</td>\n",
              "      <td>-0.029452</td>\n",
              "    </tr>\n",
              "    <tr>\n",
              "      <th>1231</th>\n",
              "      <td>-0.047083</td>\n",
              "      <td>-0.040431</td>\n",
              "    </tr>\n",
              "    <tr>\n",
              "      <th>1232</th>\n",
              "      <td>-0.003866</td>\n",
              "      <td>-0.003221</td>\n",
              "    </tr>\n",
              "    <tr>\n",
              "      <th>1233</th>\n",
              "      <td>0.073380</td>\n",
              "      <td>0.073380</td>\n",
              "    </tr>\n",
              "  </tbody>\n",
              "</table>\n",
              "<p>1234 rows × 2 columns</p>\n",
              "</div>"
            ],
            "text/plain": [
              "      Equity_return  Adjusted_Equity_return\n",
              "0               NaN                     NaN\n",
              "1          0.003748                0.002201\n",
              "2          0.010286                0.005917\n",
              "3          0.002483                0.001386\n",
              "4          0.006664                0.003623\n",
              "...             ...                     ...\n",
              "1229      -0.025484               -0.019381\n",
              "1230      -0.037040               -0.029452\n",
              "1231      -0.047083               -0.040431\n",
              "1232      -0.003866               -0.003221\n",
              "1233       0.073380                0.073380\n",
              "\n",
              "[1234 rows x 2 columns]"
            ]
          },
          "execution_count": 58,
          "metadata": {},
          "output_type": "execute_result"
        }
      ],
      "source": [
        "ds[['Equity_return', 'Adjusted_Equity_return']]"
      ]
    },
    {
      "cell_type": "code",
      "execution_count": null,
      "id": "2e9311d6",
      "metadata": {
        "id": "2e9311d6",
        "outputId": "2e531612-5e53-4529-c03e-745060d59332"
      },
      "outputs": [
        {
          "data": {
            "image/png": "[encoded data removed]",
            "text/plain": [
              "<Figure size 432x288 with 1 Axes>"
            ]
          },
          "metadata": {
            "needs_background": "light"
          },
          "output_type": "display_data"
        }
      ],
      "source": [
        "# See how to add a legend.\n",
        "fig, ax = plt.subplots()\n",
        "sns.lineplot(x='Date', y='Equity_return', data=ds, ax=ax)\n",
        "#ax2 = ax.twinx()\n",
        "sns.lineplot(x='Date', y='Adjusted_Equity_return', data=ds, ax=ax, color='r')\n",
        "plt.show()"
      ]
    },
    {
      "cell_type": "code",
      "execution_count": null,
      "id": "6bb51d00",
      "metadata": {
        "id": "6bb51d00",
        "outputId": "815ef888-40f6-4661-89ed-b1627ba2f884"
      },
      "outputs": [
        {
          "data": {
            "image/png": "[encoded data removed]",
            "text/plain": [
              "<Figure size 720x720 with 1 Axes>"
            ]
          },
          "metadata": {
            "needs_background": "light"
          },
          "output_type": "display_data"
        }
      ],
      "source": [
        "ds.plot(x='Date', y=[\"Equity_return\", \"Adjusted_Equity_return\"], kind=\"line\", figsize=(10, 10))\n",
        "plt.show()"
      ]
    },
    {
      "cell_type": "code",
      "execution_count": null,
      "id": "5bef90dd",
      "metadata": {
        "id": "5bef90dd",
        "outputId": "9796f9f5-8d31-485d-8e62-8e715c13b381"
      },
      "outputs": [
        {
          "data": {
            "image/png": "[encoded data removed]",
            "text/plain": [
              "<Figure size 432x288 with 1 Axes>"
            ]
          },
          "metadata": {
            "needs_background": "light"
          },
          "output_type": "display_data"
        }
      ],
      "source": [
        "# See how to add a legend.\n",
        "fig, ax = plt.subplots()\n",
        "sns.lineplot(x='Date', y='Forex_return', data=ds, ax=ax)\n",
        "#ax2 = ax.twinx()\n",
        "sns.lineplot(x='Date', y='Adjusted_Forex_return', data=ds, ax=ax, color='r')\n",
        "plt.show()"
      ]
    },
    {
      "cell_type": "code",
      "execution_count": null,
      "id": "f52e206b",
      "metadata": {
        "id": "f52e206b",
        "outputId": "9048ae70-a0ab-4d6c-981f-ebc83190bbf8"
      },
      "outputs": [
        {
          "data": {
            "image/png": "[encoded data removed]",
            "text/plain": [
              "<Figure size 720x720 with 1 Axes>"
            ]
          },
          "metadata": {
            "needs_background": "light"
          },
          "output_type": "display_data"
        }
      ],
      "source": [
        "ds.plot(x='Date', y=[\"Forex_return\", \"Adjusted_Forex_return\"], kind=\"line\", figsize=(10, 10))\n",
        "plt.show()"
      ]
    },
    {
      "cell_type": "code",
      "execution_count": null,
      "id": "f7a27ab8",
      "metadata": {
        "id": "f7a27ab8"
      },
      "outputs": [],
      "source": [
        "# We can see that the adjusted return is smoother that the normal return."
      ]
    },
    {
      "cell_type": "markdown",
      "id": "71a9722b",
      "metadata": {
        "id": "71a9722b"
      },
      "source": [
        "## Question 3:"
      ]
    },
    {
      "cell_type": "code",
      "execution_count": null,
      "id": "1ae9f0fb",
      "metadata": {
        "id": "1ae9f0fb"
      },
      "outputs": [],
      "source": [
        "trading_days=250"
      ]
    },
    {
      "cell_type": "code",
      "execution_count": null,
      "id": "7cb98b61",
      "metadata": {
        "id": "7cb98b61"
      },
      "outputs": [],
      "source": [
        "# The Annual volatility Nasdaq 100 is given by "
      ]
    },
    {
      "cell_type": "code",
      "execution_count": null,
      "id": "4146ddf3",
      "metadata": {
        "id": "4146ddf3"
      },
      "outputs": [],
      "source": [
        "Equity_Annual_vol_09 = np.sqrt(trading_days)*ds.loc[ds.shape[0]-1, 'Equity_Adjusted Volatility']"
      ]
    },
    {
      "cell_type": "code",
      "execution_count": null,
      "id": "5d286bd4",
      "metadata": {
        "id": "5d286bd4"
      },
      "outputs": [],
      "source": [
        "Forex_Annual_vol_09 = np.sqrt(trading_days)*ds.loc[ds.shape[0]-1, 'Forex_Adjusted Volatility']"
      ]
    },
    {
      "cell_type": "code",
      "execution_count": null,
      "id": "c57f1700",
      "metadata": {
        "id": "c57f1700"
      },
      "outputs": [],
      "source": [
        "Correlation_09 = ds.loc[ds.shape[0]-1, 'Correlation']"
      ]
    },
    {
      "cell_type": "code",
      "execution_count": null,
      "id": "39ca0024",
      "metadata": {
        "id": "39ca0024"
      },
      "outputs": [],
      "source": [
        "a12 = Equity_Annual_vol_09*Forex_Annual_vol_09*Correlation_09\n",
        "a11 = Equity_Annual_vol_09*Equity_Annual_vol_09\n",
        "a22 = Forex_Annual_vol_09*Forex_Annual_vol_09\n",
        "\n",
        "Annual_Covariance_Matrix_09 = np.matrix([[a11, a12], [a12, a22]])"
      ]
    },
    {
      "cell_type": "code",
      "execution_count": null,
      "id": "b2a64462",
      "metadata": {
        "id": "b2a64462",
        "outputId": "6c50bfdc-2c12-44ad-cf44-5b583626b9dd"
      },
      "outputs": [
        {
          "data": {
            "text/plain": [
              "matrix([[ 0.2324032 , -0.11046743],\n",
              "        [-0.11046743,  0.50122953]])"
            ]
          },
          "execution_count": 70,
          "metadata": {},
          "output_type": "execute_result"
        }
      ],
      "source": [
        "Annual_Covariance_Matrix_09"
      ]
    },
    {
      "cell_type": "code",
      "execution_count": null,
      "id": "cdac849c",
      "metadata": {
        "id": "cdac849c",
        "outputId": "79973065-1e17-413f-ad68-9320395360dc"
      },
      "outputs": [
        {
          "data": {
            "text/plain": [
              "matrix([[0.51269787]])"
            ]
          },
          "execution_count": 71,
          "metadata": {},
          "output_type": "execute_result"
        }
      ],
      "source": [
        "np.matrix([1, 1])*Annual_Covariance_Matrix_09*(np.matrix([1, 1]).T)"
      ]
    },
    {
      "cell_type": "code",
      "execution_count": null,
      "id": "4f47681f",
      "metadata": {
        "id": "4f47681f"
      },
      "outputs": [],
      "source": [
        "# on the 23/02/2022, we have"
      ]
    },
    {
      "cell_type": "code",
      "execution_count": null,
      "id": "91956cac",
      "metadata": {
        "id": "91956cac",
        "outputId": "fc3244d7-6d92-437f-ac03-e389a1293e28"
      },
      "outputs": [
        {
          "data": {
            "text/html": [
              "<div>\n",
              "<style scoped>\n",
              "    .dataframe tbody tr th:only-of-type {\n",
              "        vertical-align: middle;\n",
              "    }\n",
              "\n",
              "    .dataframe tbody tr th {\n",
              "        vertical-align: top;\n",
              "    }\n",
              "\n",
              "    .dataframe thead th {\n",
              "        text-align: right;\n",
              "    }\n",
              "</style>\n",
              "<table border=\"1\" class=\"dataframe\">\n",
              "  <thead>\n",
              "    <tr style=\"text-align: right;\">\n",
              "      <th></th>\n",
              "      <th>Date</th>\n",
              "      <th>DAX</th>\n",
              "      <th>NASDAQ100</th>\n",
              "      <th>EUR/RUB</th>\n",
              "      <th>USD/RUB</th>\n",
              "      <th>DAX_RUB</th>\n",
              "      <th>NASDAQ100_RUB</th>\n",
              "      <th>y_1t</th>\n",
              "      <th>y_2t</th>\n",
              "      <th>rt_EUR/RUB</th>\n",
              "      <th>...</th>\n",
              "      <th>Forex_return^2</th>\n",
              "      <th>Equity_Adjusted_Variance</th>\n",
              "      <th>Forex_Adjusted_Variance</th>\n",
              "      <th>Equity_Adjusted Volatility</th>\n",
              "      <th>Forex_Adjusted Volatility</th>\n",
              "      <th>Return_Product</th>\n",
              "      <th>Covariance</th>\n",
              "      <th>Correlation</th>\n",
              "      <th>Adjusted_Equity_return</th>\n",
              "      <th>Adjusted_Forex_return</th>\n",
              "    </tr>\n",
              "  </thead>\n",
              "  <tbody>\n",
              "    <tr>\n",
              "      <th>1229</th>\n",
              "      <td>2022-03-03</td>\n",
              "      <td>13698.40</td>\n",
              "      <td>14035.21</td>\n",
              "      <td>117.6000</td>\n",
              "      <td>109.8960</td>\n",
              "      <td>1.610932e+06</td>\n",
              "      <td>1.542413e+06</td>\n",
              "      <td>-0.021786</td>\n",
              "      <td>-0.014745</td>\n",
              "      <td>0.018885</td>\n",
              "      <td>...</td>\n",
              "      <td>0.002238</td>\n",
              "      <td>0.000538</td>\n",
              "      <td>0.001321</td>\n",
              "      <td>0.023188</td>\n",
              "      <td>0.036351</td>\n",
              "      <td>-0.001206</td>\n",
              "      <td>-0.000018</td>\n",
              "      <td>-0.021537</td>\n",
              "      <td>-0.019381</td>\n",
              "      <td>0.038406</td>\n",
              "    </tr>\n",
              "    <tr>\n",
              "      <th>1230</th>\n",
              "      <td>2022-03-04</td>\n",
              "      <td>13094.54</td>\n",
              "      <td>13837.83</td>\n",
              "      <td>118.9925</td>\n",
              "      <td>122.5375</td>\n",
              "      <td>1.558152e+06</td>\n",
              "      <td>1.695653e+06</td>\n",
              "      <td>-0.045084</td>\n",
              "      <td>-0.014163</td>\n",
              "      <td>0.011771</td>\n",
              "      <td>...</td>\n",
              "      <td>0.004905</td>\n",
              "      <td>0.000588</td>\n",
              "      <td>0.001536</td>\n",
              "      <td>0.024243</td>\n",
              "      <td>0.039197</td>\n",
              "      <td>-0.002594</td>\n",
              "      <td>-0.000089</td>\n",
              "      <td>-0.094079</td>\n",
              "      <td>-0.029452</td>\n",
              "      <td>0.061311</td>\n",
              "    </tr>\n",
              "    <tr>\n",
              "      <th>1231</th>\n",
              "      <td>2022-03-07</td>\n",
              "      <td>12834.65</td>\n",
              "      <td>13319.38</td>\n",
              "      <td>118.9925</td>\n",
              "      <td>143.0000</td>\n",
              "      <td>1.527227e+06</td>\n",
              "      <td>1.904671e+06</td>\n",
              "      <td>-0.020047</td>\n",
              "      <td>-0.038186</td>\n",
              "      <td>0.000000</td>\n",
              "      <td>...</td>\n",
              "      <td>0.008585</td>\n",
              "      <td>0.000685</td>\n",
              "      <td>0.001959</td>\n",
              "      <td>0.026182</td>\n",
              "      <td>0.044264</td>\n",
              "      <td>-0.004363</td>\n",
              "      <td>-0.000240</td>\n",
              "      <td>-0.206822</td>\n",
              "      <td>-0.040431</td>\n",
              "      <td>0.091597</td>\n",
              "    </tr>\n",
              "    <tr>\n",
              "      <th>1232</th>\n",
              "      <td>2022-03-08</td>\n",
              "      <td>12831.51</td>\n",
              "      <td>13267.61</td>\n",
              "      <td>118.9925</td>\n",
              "      <td>127.5000</td>\n",
              "      <td>1.526853e+06</td>\n",
              "      <td>1.691620e+06</td>\n",
              "      <td>-0.000245</td>\n",
              "      <td>-0.003894</td>\n",
              "      <td>0.000000</td>\n",
              "      <td>...</td>\n",
              "      <td>0.004739</td>\n",
              "      <td>0.000645</td>\n",
              "      <td>0.002126</td>\n",
              "      <td>0.025402</td>\n",
              "      <td>0.046110</td>\n",
              "      <td>0.000266</td>\n",
              "      <td>-0.000487</td>\n",
              "      <td>-0.415843</td>\n",
              "      <td>-0.003221</td>\n",
              "      <td>-0.070887</td>\n",
              "    </tr>\n",
              "    <tr>\n",
              "      <th>1233</th>\n",
              "      <td>2022-03-09</td>\n",
              "      <td>13847.93</td>\n",
              "      <td>13742.20</td>\n",
              "      <td>127.0000</td>\n",
              "      <td>120.0000</td>\n",
              "      <td>1.758687e+06</td>\n",
              "      <td>1.649064e+06</td>\n",
              "      <td>0.076232</td>\n",
              "      <td>0.035146</td>\n",
              "      <td>0.065127</td>\n",
              "      <td>...</td>\n",
              "      <td>0.000107</td>\n",
              "      <td>0.000930</td>\n",
              "      <td>0.002005</td>\n",
              "      <td>0.030490</td>\n",
              "      <td>0.044776</td>\n",
              "      <td>-0.000758</td>\n",
              "      <td>-0.000442</td>\n",
              "      <td>-0.323664</td>\n",
              "      <td>0.073380</td>\n",
              "      <td>-0.010324</td>\n",
              "    </tr>\n",
              "  </tbody>\n",
              "</table>\n",
              "<p>5 rows × 25 columns</p>\n",
              "</div>"
            ],
            "text/plain": [
              "           Date       DAX  NASDAQ100   EUR/RUB   USD/RUB       DAX_RUB  \\\n",
              "1229 2022-03-03  13698.40   14035.21  117.6000  109.8960  1.610932e+06   \n",
              "1230 2022-03-04  13094.54   13837.83  118.9925  122.5375  1.558152e+06   \n",
              "1231 2022-03-07  12834.65   13319.38  118.9925  143.0000  1.527227e+06   \n",
              "1232 2022-03-08  12831.51   13267.61  118.9925  127.5000  1.526853e+06   \n",
              "1233 2022-03-09  13847.93   13742.20  127.0000  120.0000  1.758687e+06   \n",
              "\n",
              "      NASDAQ100_RUB      y_1t      y_2t  rt_EUR/RUB  ...  Forex_return^2  \\\n",
              "1229   1.542413e+06 -0.021786 -0.014745    0.018885  ...        0.002238   \n",
              "1230   1.695653e+06 -0.045084 -0.014163    0.011771  ...        0.004905   \n",
              "1231   1.904671e+06 -0.020047 -0.038186    0.000000  ...        0.008585   \n",
              "1232   1.691620e+06 -0.000245 -0.003894    0.000000  ...        0.004739   \n",
              "1233   1.649064e+06  0.076232  0.035146    0.065127  ...        0.000107   \n",
              "\n",
              "      Equity_Adjusted_Variance  Forex_Adjusted_Variance  \\\n",
              "1229                  0.000538                 0.001321   \n",
              "1230                  0.000588                 0.001536   \n",
              "1231                  0.000685                 0.001959   \n",
              "1232                  0.000645                 0.002126   \n",
              "1233                  0.000930                 0.002005   \n",
              "\n",
              "      Equity_Adjusted Volatility  Forex_Adjusted Volatility  Return_Product  \\\n",
              "1229                    0.023188                   0.036351       -0.001206   \n",
              "1230                    0.024243                   0.039197       -0.002594   \n",
              "1231                    0.026182                   0.044264       -0.004363   \n",
              "1232                    0.025402                   0.046110        0.000266   \n",
              "1233                    0.030490                   0.044776       -0.000758   \n",
              "\n",
              "      Covariance  Correlation  Adjusted_Equity_return  Adjusted_Forex_return  \n",
              "1229   -0.000018    -0.021537               -0.019381               0.038406  \n",
              "1230   -0.000089    -0.094079               -0.029452               0.061311  \n",
              "1231   -0.000240    -0.206822               -0.040431               0.091597  \n",
              "1232   -0.000487    -0.415843               -0.003221              -0.070887  \n",
              "1233   -0.000442    -0.323664                0.073380              -0.010324  \n",
              "\n",
              "[5 rows x 25 columns]"
            ]
          },
          "execution_count": 73,
          "metadata": {},
          "output_type": "execute_result"
        }
      ],
      "source": [
        "ds.tail()"
      ]
    },
    {
      "cell_type": "code",
      "execution_count": null,
      "id": "c8a77dd7",
      "metadata": {
        "id": "c8a77dd7",
        "outputId": "8524a6fc-1dde-44a4-f985-145fb4233e60"
      },
      "outputs": [
        {
          "data": {
            "text/plain": [
              "1223    0.022511\n",
              "Name: Equity_Adjusted Volatility, dtype: float64"
            ]
          },
          "execution_count": 74,
          "metadata": {},
          "output_type": "execute_result"
        }
      ],
      "source": [
        "ds[ds['Date'] == '2022-02-23']['Equity_Adjusted Volatility']"
      ]
    },
    {
      "cell_type": "code",
      "execution_count": null,
      "id": "ba7f2a8b",
      "metadata": {
        "id": "ba7f2a8b"
      },
      "outputs": [],
      "source": [
        "Equity_Annual_vol_23 = np.sqrt(trading_days)*ds[ds['Date'] == '2022-02-23']['Equity_Adjusted Volatility'].values[0]\n",
        "Forex_Annual_vol_23 = np.sqrt(trading_days)*ds[ds['Date'] == '2022-02-23']['Forex_Adjusted Volatility'].values[0]"
      ]
    },
    {
      "cell_type": "code",
      "execution_count": null,
      "id": "d3c2348b",
      "metadata": {
        "id": "d3c2348b"
      },
      "outputs": [],
      "source": [
        "Correlation_23 = ds[ds['Date'] == '2022-02-23']['Correlation'].values[0]"
      ]
    },
    {
      "cell_type": "code",
      "execution_count": null,
      "id": "f4842734",
      "metadata": {
        "id": "f4842734"
      },
      "outputs": [],
      "source": [
        "a12 = Equity_Annual_vol_23*Forex_Annual_vol_23*Correlation_23\n",
        "a11 = Equity_Annual_vol_23*Equity_Annual_vol_23\n",
        "a22 = Forex_Annual_vol_23*Forex_Annual_vol_23\n",
        "\n",
        "Annual_Covariance_Matrix_23 = np.matrix([[a11, a12], [a12, a22]])"
      ]
    },
    {
      "cell_type": "code",
      "execution_count": null,
      "id": "ab49f0db",
      "metadata": {
        "id": "ab49f0db",
        "outputId": "888af75f-d3a7-433f-c80e-e880ae6022ea"
      },
      "outputs": [
        {
          "data": {
            "text/plain": [
              "matrix([[ 0.12668919, -0.03878085],\n",
              "        [-0.03878085,  0.0438899 ]])"
            ]
          },
          "execution_count": 78,
          "metadata": {},
          "output_type": "execute_result"
        }
      ],
      "source": [
        "Annual_Covariance_Matrix_23"
      ]
    },
    {
      "cell_type": "code",
      "execution_count": null,
      "id": "6755dd33",
      "metadata": {
        "id": "6755dd33"
      },
      "outputs": [],
      "source": [
        "# The variance went up after the war started."
      ]
    },
    {
      "cell_type": "code",
      "execution_count": null,
      "id": "c392246b",
      "metadata": {
        "id": "c392246b",
        "outputId": "d292039e-bb3c-4e20-8d35-d1dda48ca378"
      },
      "outputs": [
        {
          "data": {
            "text/plain": [
              "matrix([[0.0930174]])"
            ]
          },
          "execution_count": 80,
          "metadata": {},
          "output_type": "execute_result"
        }
      ],
      "source": [
        "# We consider that the thetas are equal to 1.\n",
        "# We can then calculate.\n",
        "np.matrix([1, 1])*Annual_Covariance_Matrix_23*(np.matrix([1, 1]).T)"
      ]
    },
    {
      "cell_type": "markdown",
      "id": "8d9c3da9",
      "metadata": {
        "id": "8d9c3da9"
      },
      "source": [
        "# Part 3:"
      ]
    },
    {
      "cell_type": "markdown",
      "id": "65f72d5e",
      "metadata": {
        "id": "65f72d5e"
      },
      "source": [
        "## Question 1:"
      ]
    },
    {
      "cell_type": "code",
      "execution_count": null,
      "id": "de9ae670",
      "metadata": {
        "id": "de9ae670"
      },
      "outputs": [],
      "source": [
        "alpha = 0.01"
      ]
    },
    {
      "cell_type": "code",
      "execution_count": null,
      "id": "affce09d",
      "metadata": {
        "id": "affce09d"
      },
      "outputs": [],
      "source": [
        "h_1 = 1\n",
        "h_10 = 10"
      ]
    },
    {
      "cell_type": "code",
      "execution_count": null,
      "id": "160478ce",
      "metadata": {
        "id": "160478ce",
        "outputId": "617bff8f-2dfe-48fb-c3c0-9b3ee01c2b3d"
      },
      "outputs": [
        {
          "data": {
            "text/plain": [
              "Index(['Date', 'DAX', 'NASDAQ100', 'EUR/RUB', 'USD/RUB', 'DAX_RUB',\n",
              "       'NASDAQ100_RUB', 'y_1t', 'y_2t', 'rt_EUR/RUB', 'rt_USD/RUB',\n",
              "       'Forex_return', 'Equity_return', 'rt_RUB', 'Equity_return^2',\n",
              "       'Forex_return^2', 'Equity_Adjusted_Variance', 'Forex_Adjusted_Variance',\n",
              "       'Equity_Adjusted Volatility', 'Forex_Adjusted Volatility',\n",
              "       'Return_Product', 'Covariance', 'Correlation', 'Adjusted_Equity_return',\n",
              "       'Adjusted_Forex_return'],\n",
              "      dtype='object')"
            ]
          },
          "execution_count": 83,
          "metadata": {},
          "output_type": "execute_result"
        }
      ],
      "source": [
        "ds.columns"
      ]
    },
    {
      "cell_type": "code",
      "execution_count": null,
      "id": "9ab6eaf0",
      "metadata": {
        "id": "9ab6eaf0",
        "outputId": "a05eddc0-a446-4f1a-d8b3-57e727a079e4"
      },
      "outputs": [
        {
          "data": {
            "text/plain": [
              "0.07543383159531893"
            ]
          },
          "execution_count": 128,
          "metadata": {},
          "output_type": "execute_result"
        }
      ],
      "source": [
        "# The Normal Parametric Systematic Var for the portfolio is given by:\n",
        "from scipy.stats import norm\n",
        "\n",
        "# The one day Var is equal to on the 09/03/2022.\n",
        "np.sqrt(h_1/trading_days)*norm.ppf(1- alpha)*np.asarray(np.matrix([1, 1])*Annual_Covariance_Matrix_09*(np.matrix([1, 1]).T))[0][0]"
      ]
    },
    {
      "cell_type": "code",
      "execution_count": null,
      "id": "3966de14",
      "metadata": {
        "id": "3966de14",
        "outputId": "c0ca0572-87c3-420c-993d-e9a7e75c2e02"
      },
      "outputs": [
        {
          "data": {
            "text/plain": [
              "0.013685757189292262"
            ]
          },
          "execution_count": 129,
          "metadata": {},
          "output_type": "execute_result"
        }
      ],
      "source": [
        "# The one day Var is equal to on the 23/02/2022.\n",
        "np.sqrt(h_1/trading_days)*norm.ppf(1- alpha)*np.asarray(np.matrix([1, 1])*Annual_Covariance_Matrix_23*(np.matrix([1, 1]).T))[0][0]"
      ]
    },
    {
      "cell_type": "code",
      "execution_count": null,
      "id": "e3a16cd0",
      "metadata": {
        "id": "e3a16cd0",
        "outputId": "b0a4dea9-5823-498d-8f2a-37a83d458100"
      },
      "outputs": [
        {
          "data": {
            "text/plain": [
              "0.23854272047478073"
            ]
          },
          "execution_count": 130,
          "metadata": {},
          "output_type": "execute_result"
        }
      ],
      "source": [
        "# The 10 days Var on the 09/03/2022 is equal to.\n",
        "np.sqrt(h_10/trading_days)*norm.ppf(1- alpha)*np.asarray(np.matrix([1, 1])*Annual_Covariance_Matrix_09*(np.matrix([1, 1]).T))[0][0]"
      ]
    },
    {
      "cell_type": "code",
      "execution_count": null,
      "id": "f54e86e3",
      "metadata": {
        "id": "f54e86e3",
        "outputId": "19a2a1d1-46ee-426c-bb96-f6eac6bf55a2"
      },
      "outputs": [
        {
          "data": {
            "text/plain": [
              "0.043278164222187714"
            ]
          },
          "execution_count": 131,
          "metadata": {},
          "output_type": "execute_result"
        }
      ],
      "source": [
        "# The 10 days Var is equal to on the 23/02/2022.\n",
        "np.sqrt(h_10/trading_days)*norm.ppf(1- alpha)*np.asarray(np.matrix([1, 1])*Annual_Covariance_Matrix_23*(np.matrix([1, 1]).T))[0][0]"
      ]
    },
    {
      "cell_type": "markdown",
      "id": "3e601b82",
      "metadata": {
        "id": "3e601b82"
      },
      "source": [
        "## Question 2:"
      ]
    },
    {
      "cell_type": "code",
      "execution_count": null,
      "id": "c461f617",
      "metadata": {
        "id": "c461f617",
        "outputId": "c799b9cd-1fc5-44ec-fa65-2d15460f412f"
      },
      "outputs": [
        {
          "data": {
            "text/plain": [
              "0.1656053760422725"
            ]
          },
          "execution_count": 124,
          "metadata": {},
          "output_type": "execute_result"
        }
      ],
      "source": [
        "# Estimate the 10-day Normal Stand-Alone VaR for the equity and forex risk factors on 23/02/2022.\n",
        "# Comment.\n",
        "\n",
        "np.sqrt(h_10/trading_days)*norm.ppf(1- alpha)*Equity_Annual_vol_23"
      ]
    },
    {
      "cell_type": "code",
      "execution_count": null,
      "id": "fd4d56f9",
      "metadata": {
        "id": "fd4d56f9",
        "outputId": "473c0c81-f46b-424b-e4f7-d1f19b04ab7d"
      },
      "outputs": [
        {
          "data": {
            "text/plain": [
              "0.09747359082212391"
            ]
          },
          "execution_count": 127,
          "metadata": {},
          "output_type": "execute_result"
        }
      ],
      "source": [
        "np.sqrt(h_10/trading_days)*norm.ppf(1- alpha)*Forex_Annual_vol_23"
      ]
    },
    {
      "cell_type": "code",
      "execution_count": null,
      "id": "322a2c5c",
      "metadata": {
        "id": "322a2c5c",
        "outputId": "e54333e6-a5ce-48b9-89a8-557178f10466"
      },
      "outputs": [
        {
          "data": {
            "text/plain": [
              "0.22429815580504442"
            ]
          },
          "execution_count": 132,
          "metadata": {},
          "output_type": "execute_result"
        }
      ],
      "source": [
        "# Estimate the 10-days Normal stand-Alone var for the Equity and Forex risk factors on 09/03/2022.\n",
        "# Comment.\n",
        "\n",
        "np.sqrt(h_10/trading_days)*norm.ppf(1- alpha)*Equity_Annual_vol_09"
      ]
    },
    {
      "cell_type": "code",
      "execution_count": null,
      "id": "7c302bdb",
      "metadata": {
        "id": "7c302bdb",
        "outputId": "1d8d0b54-43d3-4d6f-fd6e-b6c56d2e74af"
      },
      "outputs": [
        {
          "data": {
            "text/plain": [
              "0.3293995319329875"
            ]
          },
          "execution_count": 133,
          "metadata": {},
          "output_type": "execute_result"
        }
      ],
      "source": [
        "np.sqrt(h_10/trading_days)*norm.ppf(1- alpha)*Forex_Annual_vol_09"
      ]
    },
    {
      "cell_type": "markdown",
      "id": "5685be59",
      "metadata": {
        "id": "5685be59"
      },
      "source": [
        "## Question 3:"
      ]
    },
    {
      "cell_type": "code",
      "execution_count": null,
      "id": "b1eccf0c",
      "metadata": {
        "id": "b1eccf0c",
        "outputId": "79084cb0-ec80-46e6-8f6a-99bc78367c1c"
      },
      "outputs": [
        {
          "data": {
            "text/plain": [
              "Index(['Date', 'DAX', 'NASDAQ100', 'EUR/RUB', 'USD/RUB', 'DAX_RUB',\n",
              "       'NASDAQ100_RUB', 'y_1t', 'y_2t', 'rt_EUR/RUB', 'rt_USD/RUB',\n",
              "       'Forex_return', 'Equity_return', 'rt_RUB', 'Equity_return^2',\n",
              "       'Forex_return^2', 'Equity_Adjusted_Variance', 'Forex_Adjusted_Variance',\n",
              "       'Equity_Adjusted Volatility', 'Forex_Adjusted Volatility',\n",
              "       'Return_Product', 'Covariance', 'Correlation', 'Adjusted_Equity_return',\n",
              "       'Adjusted_Forex_return'],\n",
              "      dtype='object')"
            ]
          },
          "execution_count": 134,
          "metadata": {},
          "output_type": "execute_result"
        }
      ],
      "source": [
        "ds.columns"
      ]
    },
    {
      "cell_type": "code",
      "execution_count": null,
      "id": "9565dec2",
      "metadata": {
        "id": "9565dec2",
        "outputId": "2441acb1-6c3c-4af3-e202-4f3761c65821"
      },
      "outputs": [
        {
          "data": {
            "text/plain": [
              "0.04764797734286214"
            ]
          },
          "execution_count": 142,
          "metadata": {},
          "output_type": "execute_result"
        }
      ],
      "source": [
        "ds['rt_RUB'].quantile(q=1-alpha)"
      ]
    },
    {
      "cell_type": "code",
      "execution_count": null,
      "id": "0d59b9b8",
      "metadata": {
        "id": "0d59b9b8"
      },
      "outputs": [],
      "source": [
        "ds[]"
      ]
    },
    {
      "cell_type": "code",
      "execution_count": null,
      "id": "31053537",
      "metadata": {
        "id": "31053537"
      },
      "outputs": [],
      "source": [
        "# on the 09/03/2022"
      ]
    },
    {
      "cell_type": "code",
      "execution_count": null,
      "id": "868aca93",
      "metadata": {
        "id": "868aca93"
      },
      "outputs": [],
      "source": [
        "ds['rt_RUB^2'] = ds['rt_RUB']*ds['rt_RUB'] "
      ]
    },
    {
      "cell_type": "code",
      "execution_count": null,
      "id": "66404832",
      "metadata": {
        "id": "66404832"
      },
      "outputs": [],
      "source": [
        "ds['Return_Adjusted_Variance'] = 0\n",
        "ds['Return_Adjusted_Variance'].iloc[0] = ds['rt_RUB^2'].mean()"
      ]
    },
    {
      "cell_type": "code",
      "execution_count": null,
      "id": "cf4b1ce5",
      "metadata": {
        "id": "cf4b1ce5"
      },
      "outputs": [],
      "source": [
        "for i in range(1,ds.shape[0]):\n",
        "    ds.loc[i, 'Return_Adjusted_Variance'] = (1-lbd)*ds.loc[i, 'rt_RUB^2'] + lbd*ds.loc[i-1, 'Return_Adjusted_Variance']"
      ]
    },
    {
      "cell_type": "code",
      "execution_count": null,
      "id": "a1cd085e",
      "metadata": {
        "id": "a1cd085e"
      },
      "outputs": [],
      "source": [
        "ds['Return_Adjusted Volatility'] = np.sqrt(ds['Return_Adjusted_Variance'])"
      ]
    },
    {
      "cell_type": "code",
      "execution_count": null,
      "id": "1477fa86",
      "metadata": {
        "id": "1477fa86"
      },
      "outputs": [],
      "source": [
        "# The adjusted return.\n",
        "\n",
        "ds['Adjusted_return_09'] = ds['rt_RUB'] \\\n",
        "                *(ds['Return_Adjusted Volatility']/ds.loc[ds.shape[0]-1, 'Return_Adjusted Volatility'])"
      ]
    },
    {
      "cell_type": "code",
      "execution_count": null,
      "id": "ea610810",
      "metadata": {
        "id": "ea610810",
        "outputId": "b8bc05bc-8045-47ed-93ed-0ae554b43f46"
      },
      "outputs": [
        {
          "data": {
            "text/plain": [
              "0.029448352567007983"
            ]
          },
          "execution_count": 151,
          "metadata": {},
          "output_type": "execute_result"
        }
      ],
      "source": [
        "ds['Adjusted_return_09'].quantile(q=1-alpha)"
      ]
    },
    {
      "cell_type": "code",
      "execution_count": null,
      "id": "073f6605",
      "metadata": {
        "id": "073f6605"
      },
      "outputs": [],
      "source": [
        "# On 23/02/2022"
      ]
    },
    {
      "cell_type": "code",
      "execution_count": null,
      "id": "20d386e4",
      "metadata": {
        "id": "20d386e4"
      },
      "outputs": [],
      "source": [
        "ds['Adjusted_return_23'] = ds['rt_RUB']*(ds['Return_Adjusted Volatility']/(ds[ds['Date'] == '2022-02-23']['Return_Adjusted Volatility'].values[0]))"
      ]
    },
    {
      "cell_type": "code",
      "execution_count": null,
      "id": "e6049563",
      "metadata": {
        "id": "e6049563",
        "outputId": "f5420228-2eda-402a-8950-23d7b860f625"
      },
      "outputs": [
        {
          "data": {
            "text/plain": [
              "0.07734577980686666"
            ]
          },
          "execution_count": 155,
          "metadata": {},
          "output_type": "execute_result"
        }
      ],
      "source": [
        "ds['Adjusted_return_23'].quantile(q=1-alpha)"
      ]
    },
    {
      "cell_type": "code",
      "execution_count": null,
      "id": "f0456fdc",
      "metadata": {
        "id": "f0456fdc",
        "outputId": "ef9864a5-286f-4760-b5ee-a1c434f4d643"
      },
      "outputs": [
        {
          "data": {
            "text/plain": [
              "<AxesSubplot:>"
            ]
          },
          "execution_count": 156,
          "metadata": {},
          "output_type": "execute_result"
        },
        {
          "data": {
            "image/png": "[encoded data removed]",
            "text/plain": [
              "<Figure size 432x288 with 1 Axes>"
            ]
          },
          "metadata": {
            "needs_background": "light"
          },
          "output_type": "display_data"
        }
      ],
      "source": [
        "ds['Adjusted_return_09'].hist()"
      ]
    },
    {
      "cell_type": "code",
      "execution_count": null,
      "id": "be2fe44e",
      "metadata": {
        "id": "be2fe44e",
        "outputId": "43072120-16d8-41d3-b6f9-122547ecb1be"
      },
      "outputs": [
        {
          "data": {
            "text/plain": [
              "<AxesSubplot:xlabel='Adjusted_return_23', ylabel='Count'>"
            ]
          },
          "execution_count": 158,
          "metadata": {},
          "output_type": "execute_result"
        },
        {
          "data": {
            "image/png": "[encoded data removed]",
            "text/plain": [
              "<Figure size 432x288 with 1 Axes>"
            ]
          },
          "metadata": {
            "needs_background": "light"
          },
          "output_type": "display_data"
        }
      ],
      "source": [
        "sns.histplot(data=ds, x='Adjusted_return_23')"
      ]
    },
    {
      "cell_type": "code",
      "execution_count": null,
      "id": "16d03684",
      "metadata": {
        "id": "16d03684"
      },
      "outputs": [],
      "source": [
        ""
      ]
    }
  ],
  "metadata": {
    "kernelspec": {
      "display_name": "Python 3",
      "language": "python",
      "name": "python3"
    },
    "language_info": {
      "codemirror_mode": {
        "name": "ipython",
        "version": 3
      },
      "file_extension": ".py",
      "mimetype": "text/x-python",
      "name": "python",
      "nbconvert_exporter": "python",
      "pygments_lexer": "ipython3",
      "version": "3.8.8"
    },
    "colab": {
      "name": "Project_Market_Risk.ipynb",
      "provenance": [],
      "collapsed_sections": [
        "96f60899",
        "4b215e72",
        "f06fbe9b",
        "5939f268",
        "cda5b03f",
        "71a9722b",
        "65f72d5e",
        "3e601b82",
        "5685be59"
      ],
      "include_colab_link": true
    }
  },
  "nbformat": 4,
  "nbformat_minor": 5
}